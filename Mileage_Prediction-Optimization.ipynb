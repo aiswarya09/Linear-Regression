{
 "cells": [
  {
   "cell_type": "markdown",
   "id": "c248ce1e",
   "metadata": {},
   "source": [
    "## 1. Import Necessary libraries"
   ]
  },
  {
   "cell_type": "code",
   "execution_count": 1,
   "id": "7cc26c3e",
   "metadata": {},
   "outputs": [],
   "source": [
    "import pandas as pd\n",
    "\n",
    "from matplotlib import pyplot as plt\n",
    "import seaborn as sns\n",
    "\n",
    "import warnings\n",
    "warnings.filterwarnings('ignore')"
   ]
  },
  {
   "cell_type": "markdown",
   "id": "8b3c48bb",
   "metadata": {},
   "source": [
    "## 2. Import Data"
   ]
  },
  {
   "cell_type": "code",
   "execution_count": 2,
   "id": "02fa6cfd",
   "metadata": {},
   "outputs": [
    {
     "data": {
      "text/html": [
       "<div>\n",
       "<style scoped>\n",
       "    .dataframe tbody tr th:only-of-type {\n",
       "        vertical-align: middle;\n",
       "    }\n",
       "\n",
       "    .dataframe tbody tr th {\n",
       "        vertical-align: top;\n",
       "    }\n",
       "\n",
       "    .dataframe thead th {\n",
       "        text-align: right;\n",
       "    }\n",
       "</style>\n",
       "<table border=\"1\" class=\"dataframe\">\n",
       "  <thead>\n",
       "    <tr style=\"text-align: right;\">\n",
       "      <th></th>\n",
       "      <th>HP</th>\n",
       "      <th>MPG</th>\n",
       "      <th>VOL</th>\n",
       "      <th>SP</th>\n",
       "      <th>WT</th>\n",
       "    </tr>\n",
       "  </thead>\n",
       "  <tbody>\n",
       "    <tr>\n",
       "      <th>0</th>\n",
       "      <td>49</td>\n",
       "      <td>53.700681</td>\n",
       "      <td>89</td>\n",
       "      <td>104.185353</td>\n",
       "      <td>28.762059</td>\n",
       "    </tr>\n",
       "    <tr>\n",
       "      <th>1</th>\n",
       "      <td>55</td>\n",
       "      <td>50.013401</td>\n",
       "      <td>92</td>\n",
       "      <td>105.461264</td>\n",
       "      <td>30.466833</td>\n",
       "    </tr>\n",
       "    <tr>\n",
       "      <th>2</th>\n",
       "      <td>55</td>\n",
       "      <td>50.013401</td>\n",
       "      <td>92</td>\n",
       "      <td>105.461264</td>\n",
       "      <td>30.193597</td>\n",
       "    </tr>\n",
       "    <tr>\n",
       "      <th>3</th>\n",
       "      <td>70</td>\n",
       "      <td>45.696322</td>\n",
       "      <td>92</td>\n",
       "      <td>113.461264</td>\n",
       "      <td>30.632114</td>\n",
       "    </tr>\n",
       "    <tr>\n",
       "      <th>4</th>\n",
       "      <td>53</td>\n",
       "      <td>50.504232</td>\n",
       "      <td>92</td>\n",
       "      <td>104.461264</td>\n",
       "      <td>29.889149</td>\n",
       "    </tr>\n",
       "    <tr>\n",
       "      <th>...</th>\n",
       "      <td>...</td>\n",
       "      <td>...</td>\n",
       "      <td>...</td>\n",
       "      <td>...</td>\n",
       "      <td>...</td>\n",
       "    </tr>\n",
       "    <tr>\n",
       "      <th>76</th>\n",
       "      <td>322</td>\n",
       "      <td>36.900000</td>\n",
       "      <td>50</td>\n",
       "      <td>169.598513</td>\n",
       "      <td>16.132947</td>\n",
       "    </tr>\n",
       "    <tr>\n",
       "      <th>77</th>\n",
       "      <td>238</td>\n",
       "      <td>19.197888</td>\n",
       "      <td>115</td>\n",
       "      <td>150.576579</td>\n",
       "      <td>37.923113</td>\n",
       "    </tr>\n",
       "    <tr>\n",
       "      <th>78</th>\n",
       "      <td>263</td>\n",
       "      <td>34.000000</td>\n",
       "      <td>50</td>\n",
       "      <td>151.598513</td>\n",
       "      <td>15.769625</td>\n",
       "    </tr>\n",
       "    <tr>\n",
       "      <th>79</th>\n",
       "      <td>295</td>\n",
       "      <td>19.833733</td>\n",
       "      <td>119</td>\n",
       "      <td>167.944460</td>\n",
       "      <td>39.423099</td>\n",
       "    </tr>\n",
       "    <tr>\n",
       "      <th>80</th>\n",
       "      <td>236</td>\n",
       "      <td>12.101263</td>\n",
       "      <td>107</td>\n",
       "      <td>139.840817</td>\n",
       "      <td>34.948615</td>\n",
       "    </tr>\n",
       "  </tbody>\n",
       "</table>\n",
       "<p>81 rows × 5 columns</p>\n",
       "</div>"
      ],
      "text/plain": [
       "     HP        MPG  VOL          SP         WT\n",
       "0    49  53.700681   89  104.185353  28.762059\n",
       "1    55  50.013401   92  105.461264  30.466833\n",
       "2    55  50.013401   92  105.461264  30.193597\n",
       "3    70  45.696322   92  113.461264  30.632114\n",
       "4    53  50.504232   92  104.461264  29.889149\n",
       "..  ...        ...  ...         ...        ...\n",
       "76  322  36.900000   50  169.598513  16.132947\n",
       "77  238  19.197888  115  150.576579  37.923113\n",
       "78  263  34.000000   50  151.598513  15.769625\n",
       "79  295  19.833733  119  167.944460  39.423099\n",
       "80  236  12.101263  107  139.840817  34.948615\n",
       "\n",
       "[81 rows x 5 columns]"
      ]
     },
     "execution_count": 2,
     "metadata": {},
     "output_type": "execute_result"
    }
   ],
   "source": [
    "cars_data = pd.read_csv('Cars.csv')\n",
    "cars_data"
   ]
  },
  {
   "cell_type": "markdown",
   "id": "1204478f",
   "metadata": {},
   "source": [
    "## 3. Data Understanding"
   ]
  },
  {
   "cell_type": "markdown",
   "id": "638fa285",
   "metadata": {},
   "source": [
    "### 3.1 Initial Analysis"
   ]
  },
  {
   "cell_type": "code",
   "execution_count": 3,
   "id": "66bc3eff",
   "metadata": {},
   "outputs": [
    {
     "data": {
      "text/plain": [
       "(81, 5)"
      ]
     },
     "execution_count": 3,
     "metadata": {},
     "output_type": "execute_result"
    }
   ],
   "source": [
    "cars_data.shape"
   ]
  },
  {
   "cell_type": "code",
   "execution_count": 4,
   "id": "89b97409",
   "metadata": {},
   "outputs": [
    {
     "data": {
      "text/plain": [
       "HP     0\n",
       "MPG    0\n",
       "VOL    0\n",
       "SP     0\n",
       "WT     0\n",
       "dtype: int64"
      ]
     },
     "execution_count": 4,
     "metadata": {},
     "output_type": "execute_result"
    }
   ],
   "source": [
    "cars_data.isnull().sum()"
   ]
  },
  {
   "cell_type": "code",
   "execution_count": 5,
   "id": "83bcc15d",
   "metadata": {},
   "outputs": [
    {
     "data": {
      "text/plain": [
       "HP       int64\n",
       "MPG    float64\n",
       "VOL      int64\n",
       "SP     float64\n",
       "WT     float64\n",
       "dtype: object"
      ]
     },
     "execution_count": 5,
     "metadata": {},
     "output_type": "execute_result"
    }
   ],
   "source": [
    "cars_data.dtypes"
   ]
  },
  {
   "cell_type": "code",
   "execution_count": 6,
   "id": "49e82e2e",
   "metadata": {},
   "outputs": [
    {
     "data": {
      "text/html": [
       "<div>\n",
       "<style scoped>\n",
       "    .dataframe tbody tr th:only-of-type {\n",
       "        vertical-align: middle;\n",
       "    }\n",
       "\n",
       "    .dataframe tbody tr th {\n",
       "        vertical-align: top;\n",
       "    }\n",
       "\n",
       "    .dataframe thead th {\n",
       "        text-align: right;\n",
       "    }\n",
       "</style>\n",
       "<table border=\"1\" class=\"dataframe\">\n",
       "  <thead>\n",
       "    <tr style=\"text-align: right;\">\n",
       "      <th></th>\n",
       "      <th>HP</th>\n",
       "      <th>MPG</th>\n",
       "      <th>VOL</th>\n",
       "      <th>SP</th>\n",
       "      <th>WT</th>\n",
       "    </tr>\n",
       "  </thead>\n",
       "  <tbody>\n",
       "    <tr>\n",
       "      <th>count</th>\n",
       "      <td>81.000000</td>\n",
       "      <td>81.000000</td>\n",
       "      <td>81.000000</td>\n",
       "      <td>81.000000</td>\n",
       "      <td>81.000000</td>\n",
       "    </tr>\n",
       "    <tr>\n",
       "      <th>mean</th>\n",
       "      <td>117.469136</td>\n",
       "      <td>34.422076</td>\n",
       "      <td>98.765432</td>\n",
       "      <td>121.540272</td>\n",
       "      <td>32.412577</td>\n",
       "    </tr>\n",
       "    <tr>\n",
       "      <th>std</th>\n",
       "      <td>57.113502</td>\n",
       "      <td>9.131445</td>\n",
       "      <td>22.301497</td>\n",
       "      <td>14.181432</td>\n",
       "      <td>7.492813</td>\n",
       "    </tr>\n",
       "    <tr>\n",
       "      <th>min</th>\n",
       "      <td>49.000000</td>\n",
       "      <td>12.101263</td>\n",
       "      <td>50.000000</td>\n",
       "      <td>99.564907</td>\n",
       "      <td>15.712859</td>\n",
       "    </tr>\n",
       "    <tr>\n",
       "      <th>25%</th>\n",
       "      <td>84.000000</td>\n",
       "      <td>27.856252</td>\n",
       "      <td>89.000000</td>\n",
       "      <td>113.829145</td>\n",
       "      <td>29.591768</td>\n",
       "    </tr>\n",
       "    <tr>\n",
       "      <th>50%</th>\n",
       "      <td>100.000000</td>\n",
       "      <td>35.152727</td>\n",
       "      <td>101.000000</td>\n",
       "      <td>118.208698</td>\n",
       "      <td>32.734518</td>\n",
       "    </tr>\n",
       "    <tr>\n",
       "      <th>75%</th>\n",
       "      <td>140.000000</td>\n",
       "      <td>39.531633</td>\n",
       "      <td>113.000000</td>\n",
       "      <td>126.404312</td>\n",
       "      <td>37.392524</td>\n",
       "    </tr>\n",
       "    <tr>\n",
       "      <th>max</th>\n",
       "      <td>322.000000</td>\n",
       "      <td>53.700681</td>\n",
       "      <td>160.000000</td>\n",
       "      <td>169.598513</td>\n",
       "      <td>52.997752</td>\n",
       "    </tr>\n",
       "  </tbody>\n",
       "</table>\n",
       "</div>"
      ],
      "text/plain": [
       "               HP        MPG         VOL          SP         WT\n",
       "count   81.000000  81.000000   81.000000   81.000000  81.000000\n",
       "mean   117.469136  34.422076   98.765432  121.540272  32.412577\n",
       "std     57.113502   9.131445   22.301497   14.181432   7.492813\n",
       "min     49.000000  12.101263   50.000000   99.564907  15.712859\n",
       "25%     84.000000  27.856252   89.000000  113.829145  29.591768\n",
       "50%    100.000000  35.152727  101.000000  118.208698  32.734518\n",
       "75%    140.000000  39.531633  113.000000  126.404312  37.392524\n",
       "max    322.000000  53.700681  160.000000  169.598513  52.997752"
      ]
     },
     "execution_count": 6,
     "metadata": {},
     "output_type": "execute_result"
    }
   ],
   "source": [
    "cars_data.describe()"
   ]
  },
  {
   "cell_type": "markdown",
   "id": "0dd88cbe",
   "metadata": {},
   "source": [
    "### 3.2 ASSUMPTIONS CHECK"
   ]
  },
  {
   "cell_type": "markdown",
   "id": "4ac6c03a",
   "metadata": {},
   "source": [
    "#### 3.1 Normality Test\n",
    "\n",
    "1. Distplot\n",
    "2. Histogram\n",
    "3. QQ-Plot\n",
    "4. Probplot"
   ]
  },
  {
   "cell_type": "code",
   "execution_count": 7,
   "id": "3b01927c",
   "metadata": {},
   "outputs": [
    {
     "data": {
      "image/png": "[encoded data removed]",
      "text/plain": [
       "<Figure size 432x288 with 1 Axes>"
      ]
     },
     "metadata": {
      "needs_background": "light"
     },
     "output_type": "display_data"
    }
   ],
   "source": [
    "sns.distplot(a=cars_data['HP'],hist=False)\n",
    "plt.title('Normality Test - HP')\n",
    "plt.show()"
   ]
  },
  {
   "cell_type": "code",
   "execution_count": 10,
   "id": "5d3ccfc2",
   "metadata": {},
   "outputs": [
    {
     "data": {
      "text/plain": [
       "1.7162163889158817"
      ]
     },
     "execution_count": 10,
     "metadata": {},
     "output_type": "execute_result"
    }
   ],
   "source": [
    "cars_data['HP'].skew()"
   ]
  },
  {
   "cell_type": "code",
   "execution_count": 11,
   "id": "228f7127",
   "metadata": {},
   "outputs": [
    {
     "data": {
      "text/plain": [
       "2.960024672046334"
      ]
     },
     "execution_count": 11,
     "metadata": {},
     "output_type": "execute_result"
    }
   ],
   "source": [
    "cars_data['HP'].kurtosis()"
   ]
  },
  {
   "cell_type": "code",
   "execution_count": 13,
   "id": "b93cea62",
   "metadata": {},
   "outputs": [
    {
     "data": {
      "image/png": "[encoded data removed]",
      "text/plain": [
       "<Figure size 432x288 with 1 Axes>"
      ]
     },
     "metadata": {
      "needs_background": "light"
     },
     "output_type": "display_data"
    }
   ],
   "source": [
    "sns.distplot(a=cars_data['VOL'],hist=False)\n",
    "plt.title('Normality Test - VOL')\n",
    "plt.show()"
   ]
  },
  {
   "cell_type": "code",
   "execution_count": 14,
   "id": "4fac44e3",
   "metadata": {},
   "outputs": [
    {
     "data": {
      "text/plain": [
       "-0.5901968186877561"
      ]
     },
     "execution_count": 14,
     "metadata": {},
     "output_type": "execute_result"
    }
   ],
   "source": [
    "cars_data['VOL'].skew()"
   ]
  },
  {
   "cell_type": "code",
   "execution_count": 15,
   "id": "bbe68f06",
   "metadata": {},
   "outputs": [
    {
     "data": {
      "image/png": "[encoded data removed]",
      "text/plain": [
       "<Figure size 432x288 with 1 Axes>"
      ]
     },
     "metadata": {
      "needs_background": "light"
     },
     "output_type": "display_data"
    }
   ],
   "source": [
    "sns.distplot(a=cars_data['SP'],hist=False)\n",
    "plt.title('Normality Test - SP')\n",
    "plt.show()"
   ]
  },
  {
   "cell_type": "code",
   "execution_count": 16,
   "id": "dde99b6e",
   "metadata": {},
   "outputs": [
    {
     "data": {
      "image/png": "[encoded data removed]",
      "text/plain": [
       "<Figure size 432x288 with 1 Axes>"
      ]
     },
     "metadata": {
      "needs_background": "light"
     },
     "output_type": "display_data"
    }
   ],
   "source": [
    "sns.distplot(a=cars_data['WT'],hist=False)\n",
    "plt.title('Normality Test - SP')\n",
    "plt.show()"
   ]
  },
  {
   "cell_type": "markdown",
   "id": "03671081",
   "metadata": {},
   "source": [
    "#### Normality Test using Probplot"
   ]
  },
  {
   "cell_type": "code",
   "execution_count": 3,
   "id": "b880283d",
   "metadata": {},
   "outputs": [],
   "source": [
    "from scipy import stats"
   ]
  },
  {
   "cell_type": "code",
   "execution_count": 31,
   "id": "cdb12437",
   "metadata": {},
   "outputs": [
    {
     "data": {
      "image/png": "[encoded data removed]",
      "text/plain": [
       "<Figure size 432x288 with 1 Axes>"
      ]
     },
     "metadata": {
      "needs_background": "light"
     },
     "output_type": "display_data"
    }
   ],
   "source": [
    "stats.probplot(x = cars_data['HP'],dist='norm',plot=plt)\n",
    "plt.show()"
   ]
  },
  {
   "cell_type": "code",
   "execution_count": 32,
   "id": "4ae61127",
   "metadata": {},
   "outputs": [
    {
     "data": {
      "image/png": "[encoded data removed]",
      "text/plain": [
       "<Figure size 432x288 with 1 Axes>"
      ]
     },
     "metadata": {
      "needs_background": "light"
     },
     "output_type": "display_data"
    }
   ],
   "source": [
    "stats.probplot(x = cars_data['VOL'],dist='norm',plot=plt)\n",
    "plt.show()"
   ]
  },
  {
   "cell_type": "code",
   "execution_count": 33,
   "id": "6dc142cc",
   "metadata": {},
   "outputs": [
    {
     "data": {
      "image/png": "[encoded data removed]",
      "text/plain": [
       "<Figure size 432x288 with 1 Axes>"
      ]
     },
     "metadata": {
      "needs_background": "light"
     },
     "output_type": "display_data"
    }
   ],
   "source": [
    "stats.probplot(x = cars_data['WT'],dist='norm',plot=plt)\n",
    "plt.show()"
   ]
  },
  {
   "cell_type": "code",
   "execution_count": 34,
   "id": "e721ebdc",
   "metadata": {},
   "outputs": [
    {
     "data": {
      "image/png": "[encoded data removed]",
      "text/plain": [
       "<Figure size 432x288 with 1 Axes>"
      ]
     },
     "metadata": {
      "needs_background": "light"
     },
     "output_type": "display_data"
    }
   ],
   "source": [
    "stats.probplot(x = cars_data['SP'],dist='norm',plot=plt)\n",
    "plt.show()"
   ]
  },
  {
   "cell_type": "markdown",
   "id": "ba3b7110",
   "metadata": {},
   "source": [
    "##### Normality Test is failed."
   ]
  },
  {
   "cell_type": "markdown",
   "id": "0da77792",
   "metadata": {},
   "source": [
    "#### 3. Linearity Test"
   ]
  },
  {
   "cell_type": "code",
   "execution_count": 18,
   "id": "ff55b8c4",
   "metadata": {},
   "outputs": [
    {
     "data": {
      "image/png": "[encoded data removed]",
      "text/plain": [
       "<Figure size 360x360 with 1 Axes>"
      ]
     },
     "metadata": {
      "needs_background": "light"
     },
     "output_type": "display_data"
    }
   ],
   "source": [
    "sns.lmplot(x='HP',y='MPG',data=cars_data)\n",
    "plt.title('HP Vs MPG')\n",
    "plt.show()"
   ]
  },
  {
   "cell_type": "code",
   "execution_count": 20,
   "id": "6082ffa2",
   "metadata": {},
   "outputs": [
    {
     "data": {
      "image/png": "[encoded data removed]",
      "text/plain": [
       "<Figure size 360x360 with 1 Axes>"
      ]
     },
     "metadata": {
      "needs_background": "light"
     },
     "output_type": "display_data"
    }
   ],
   "source": [
    "sns.lmplot(x='VOL',y='MPG',data=cars_data)\n",
    "plt.title('VOL Vs MPG')\n",
    "plt.show()"
   ]
  },
  {
   "cell_type": "code",
   "execution_count": 21,
   "id": "431c8313",
   "metadata": {},
   "outputs": [
    {
     "data": {
      "image/png": "[encoded data removed]",
      "text/plain": [
       "<Figure size 360x360 with 1 Axes>"
      ]
     },
     "metadata": {
      "needs_background": "light"
     },
     "output_type": "display_data"
    }
   ],
   "source": [
    "sns.lmplot(x='SP',y='MPG',data=cars_data)\n",
    "plt.title('SP Vs MPG')\n",
    "plt.show()"
   ]
  },
  {
   "cell_type": "code",
   "execution_count": 22,
   "id": "7e177d2d",
   "metadata": {},
   "outputs": [
    {
     "data": {
      "image/png": "[encoded data removed]",
      "text/plain": [
       "<Figure size 360x360 with 1 Axes>"
      ]
     },
     "metadata": {
      "needs_background": "light"
     },
     "output_type": "display_data"
    }
   ],
   "source": [
    "sns.lmplot(x='WT',y='MPG',data=cars_data)\n",
    "plt.title('WT Vs MPG')\n",
    "plt.show()"
   ]
  },
  {
   "cell_type": "markdown",
   "id": "ffc834a2",
   "metadata": {},
   "source": [
    "#### Linearity Test Failed."
   ]
  },
  {
   "cell_type": "markdown",
   "id": "a294a294",
   "metadata": {},
   "source": [
    "### 3. Multi-collinearity Test\n",
    "\n",
    "Can be performed by using 2 techniques:\n",
    "\n",
    "**1. Correlation Matrix**\n",
    "\n",
    "**2. Variance Inflation Factor[VIF].**"
   ]
  },
  {
   "cell_type": "code",
   "execution_count": 25,
   "id": "cbe8d1ca",
   "metadata": {},
   "outputs": [
    {
     "data": {
      "text/html": [
       "<div>\n",
       "<style scoped>\n",
       "    .dataframe tbody tr th:only-of-type {\n",
       "        vertical-align: middle;\n",
       "    }\n",
       "\n",
       "    .dataframe tbody tr th {\n",
       "        vertical-align: top;\n",
       "    }\n",
       "\n",
       "    .dataframe thead th {\n",
       "        text-align: right;\n",
       "    }\n",
       "</style>\n",
       "<table border=\"1\" class=\"dataframe\">\n",
       "  <thead>\n",
       "    <tr style=\"text-align: right;\">\n",
       "      <th></th>\n",
       "      <th>HP</th>\n",
       "      <th>MPG</th>\n",
       "      <th>VOL</th>\n",
       "      <th>SP</th>\n",
       "      <th>WT</th>\n",
       "    </tr>\n",
       "  </thead>\n",
       "  <tbody>\n",
       "    <tr>\n",
       "      <th>HP</th>\n",
       "      <td>1.00</td>\n",
       "      <td>-0.73</td>\n",
       "      <td>0.08</td>\n",
       "      <td>0.97</td>\n",
       "      <td>0.08</td>\n",
       "    </tr>\n",
       "    <tr>\n",
       "      <th>MPG</th>\n",
       "      <td>-0.73</td>\n",
       "      <td>1.00</td>\n",
       "      <td>-0.53</td>\n",
       "      <td>-0.69</td>\n",
       "      <td>-0.53</td>\n",
       "    </tr>\n",
       "    <tr>\n",
       "      <th>VOL</th>\n",
       "      <td>0.08</td>\n",
       "      <td>-0.53</td>\n",
       "      <td>1.00</td>\n",
       "      <td>0.10</td>\n",
       "      <td>1.00</td>\n",
       "    </tr>\n",
       "    <tr>\n",
       "      <th>SP</th>\n",
       "      <td>0.97</td>\n",
       "      <td>-0.69</td>\n",
       "      <td>0.10</td>\n",
       "      <td>1.00</td>\n",
       "      <td>0.10</td>\n",
       "    </tr>\n",
       "    <tr>\n",
       "      <th>WT</th>\n",
       "      <td>0.08</td>\n",
       "      <td>-0.53</td>\n",
       "      <td>1.00</td>\n",
       "      <td>0.10</td>\n",
       "      <td>1.00</td>\n",
       "    </tr>\n",
       "  </tbody>\n",
       "</table>\n",
       "</div>"
      ],
      "text/plain": [
       "       HP   MPG   VOL    SP    WT\n",
       "HP   1.00 -0.73  0.08  0.97  0.08\n",
       "MPG -0.73  1.00 -0.53 -0.69 -0.53\n",
       "VOL  0.08 -0.53  1.00  0.10  1.00\n",
       "SP   0.97 -0.69  0.10  1.00  0.10\n",
       "WT   0.08 -0.53  1.00  0.10  1.00"
      ]
     },
     "execution_count": 25,
     "metadata": {},
     "output_type": "execute_result"
    }
   ],
   "source": [
    "cars_data_corr_matrix = cars_data.corr().round(2)\n",
    "cars_data_corr_matrix"
   ]
  },
  {
   "cell_type": "code",
   "execution_count": 27,
   "id": "fcee0ad4",
   "metadata": {},
   "outputs": [
    {
     "data": {
      "text/plain": [
       "<AxesSubplot:>"
      ]
     },
     "execution_count": 27,
     "metadata": {},
     "output_type": "execute_result"
    },
    {
     "data": {
      "image/png": "[encoded data removed]",
      "text/plain": [
       "<Figure size 432x288 with 2 Axes>"
      ]
     },
     "metadata": {
      "needs_background": "light"
     },
     "output_type": "display_data"
    }
   ],
   "source": [
    "sns.heatmap(cars_data_corr_matrix,annot=True)"
   ]
  },
  {
   "cell_type": "markdown",
   "id": "e34c8986",
   "metadata": {},
   "source": [
    "##### Multicollinearity problem exists. "
   ]
  },
  {
   "cell_type": "markdown",
   "id": "3c1c7da7",
   "metadata": {},
   "source": [
    "#### 4. Autoregression Test - No time based inputs."
   ]
  },
  {
   "cell_type": "markdown",
   "id": "d350fd83",
   "metadata": {},
   "source": [
    "#### 5. Homoscedasticity Check || 6. Zero Residual Check\n",
    "\n",
    "This can be done post model Training.\n",
    "\n",
    "## NOTE:\n",
    "\n",
    "For homoscedasticity check, all your **input features must be in a similar scale.**"
   ]
  },
  {
   "cell_type": "markdown",
   "id": "f4630b78",
   "metadata": {},
   "source": [
    "## ======================================================================="
   ]
  },
  {
   "cell_type": "markdown",
   "id": "8f355b1e",
   "metadata": {},
   "source": [
    "## Let's create a Reference data to understand how the x features should behave with y."
   ]
  },
  {
   "cell_type": "code",
   "execution_count": 4,
   "id": "1b5c3924",
   "metadata": {},
   "outputs": [],
   "source": [
    "import numpy as np"
   ]
  },
  {
   "cell_type": "code",
   "execution_count": 36,
   "id": "57383668",
   "metadata": {},
   "outputs": [
    {
     "data": {
      "text/plain": [
       "(81, 5)"
      ]
     },
     "execution_count": 36,
     "metadata": {},
     "output_type": "execute_result"
    }
   ],
   "source": [
    "cars_data.shape"
   ]
  },
  {
   "cell_type": "code",
   "execution_count": 12,
   "id": "7bbcd7fb",
   "metadata": {},
   "outputs": [],
   "source": [
    "X = np.random.randn(81)\n",
    "y = 10 * X + np.random.randn(81)*2"
   ]
  },
  {
   "cell_type": "code",
   "execution_count": 13,
   "id": "c6152a52",
   "metadata": {},
   "outputs": [
    {
     "data": {
      "text/html": [
       "<div>\n",
       "<style scoped>\n",
       "    .dataframe tbody tr th:only-of-type {\n",
       "        vertical-align: middle;\n",
       "    }\n",
       "\n",
       "    .dataframe tbody tr th {\n",
       "        vertical-align: top;\n",
       "    }\n",
       "\n",
       "    .dataframe thead th {\n",
       "        text-align: right;\n",
       "    }\n",
       "</style>\n",
       "<table border=\"1\" class=\"dataframe\">\n",
       "  <thead>\n",
       "    <tr style=\"text-align: right;\">\n",
       "      <th></th>\n",
       "      <th>X</th>\n",
       "      <th>y</th>\n",
       "    </tr>\n",
       "  </thead>\n",
       "  <tbody>\n",
       "    <tr>\n",
       "      <th>0</th>\n",
       "      <td>0.769480</td>\n",
       "      <td>7.600599</td>\n",
       "    </tr>\n",
       "    <tr>\n",
       "      <th>1</th>\n",
       "      <td>0.346688</td>\n",
       "      <td>4.496202</td>\n",
       "    </tr>\n",
       "    <tr>\n",
       "      <th>2</th>\n",
       "      <td>-0.750207</td>\n",
       "      <td>-7.811097</td>\n",
       "    </tr>\n",
       "    <tr>\n",
       "      <th>3</th>\n",
       "      <td>0.551135</td>\n",
       "      <td>5.395802</td>\n",
       "    </tr>\n",
       "    <tr>\n",
       "      <th>4</th>\n",
       "      <td>2.517880</td>\n",
       "      <td>25.709865</td>\n",
       "    </tr>\n",
       "    <tr>\n",
       "      <th>...</th>\n",
       "      <td>...</td>\n",
       "      <td>...</td>\n",
       "    </tr>\n",
       "    <tr>\n",
       "      <th>76</th>\n",
       "      <td>1.189721</td>\n",
       "      <td>8.518311</td>\n",
       "    </tr>\n",
       "    <tr>\n",
       "      <th>77</th>\n",
       "      <td>-0.266987</td>\n",
       "      <td>-3.614204</td>\n",
       "    </tr>\n",
       "    <tr>\n",
       "      <th>78</th>\n",
       "      <td>-2.042831</td>\n",
       "      <td>-21.012626</td>\n",
       "    </tr>\n",
       "    <tr>\n",
       "      <th>79</th>\n",
       "      <td>0.422435</td>\n",
       "      <td>5.840986</td>\n",
       "    </tr>\n",
       "    <tr>\n",
       "      <th>80</th>\n",
       "      <td>0.750465</td>\n",
       "      <td>9.668463</td>\n",
       "    </tr>\n",
       "  </tbody>\n",
       "</table>\n",
       "<p>81 rows × 2 columns</p>\n",
       "</div>"
      ],
      "text/plain": [
       "           X          y\n",
       "0   0.769480   7.600599\n",
       "1   0.346688   4.496202\n",
       "2  -0.750207  -7.811097\n",
       "3   0.551135   5.395802\n",
       "4   2.517880  25.709865\n",
       "..       ...        ...\n",
       "76  1.189721   8.518311\n",
       "77 -0.266987  -3.614204\n",
       "78 -2.042831 -21.012626\n",
       "79  0.422435   5.840986\n",
       "80  0.750465   9.668463\n",
       "\n",
       "[81 rows x 2 columns]"
      ]
     },
     "execution_count": 13,
     "metadata": {},
     "output_type": "execute_result"
    }
   ],
   "source": [
    "X_df = pd.DataFrame(data=[X,y]).T\n",
    "X_df.columns = ['X','y']\n",
    "X_df"
   ]
  },
  {
   "cell_type": "markdown",
   "id": "1dcbd562",
   "metadata": {},
   "source": [
    "### 1. Linearity Test - Passed"
   ]
  },
  {
   "cell_type": "code",
   "execution_count": 14,
   "id": "14476e66",
   "metadata": {},
   "outputs": [
    {
     "data": {
      "text/plain": [
       "<seaborn.axisgrid.FacetGrid at 0x1afc6608dc0>"
      ]
     },
     "execution_count": 14,
     "metadata": {},
     "output_type": "execute_result"
    },
    {
     "data": {
      "image/png": "[encoded data removed]",
      "text/plain": [
       "<Figure size 360x360 with 1 Axes>"
      ]
     },
     "metadata": {
      "needs_background": "light"
     },
     "output_type": "display_data"
    }
   ],
   "source": [
    "sns.lmplot(x='X',y='y',data=X_df)"
   ]
  },
  {
   "cell_type": "markdown",
   "id": "319d9947",
   "metadata": {},
   "source": [
    "### 2. Normality Test - Passed"
   ]
  },
  {
   "cell_type": "code",
   "execution_count": 16,
   "id": "7f298446",
   "metadata": {},
   "outputs": [
    {
     "data": {
      "image/png": "[encoded data removed]",
      "text/plain": [
       "<Figure size 432x288 with 1 Axes>"
      ]
     },
     "metadata": {
      "needs_background": "light"
     },
     "output_type": "display_data"
    }
   ],
   "source": [
    "sns.distplot(a=X_df['X'],hist=False)\n",
    "plt.show()"
   ]
  },
  {
   "cell_type": "code",
   "execution_count": 17,
   "id": "b2b62120",
   "metadata": {},
   "outputs": [
    {
     "data": {
      "text/plain": [
       "X    0.012861\n",
       "y    0.135360\n",
       "dtype: float64"
      ]
     },
     "execution_count": 17,
     "metadata": {},
     "output_type": "execute_result"
    }
   ],
   "source": [
    "X_df.skew()"
   ]
  },
  {
   "cell_type": "code",
   "execution_count": 18,
   "id": "5b73d763",
   "metadata": {},
   "outputs": [
    {
     "data": {
      "text/plain": [
       "X   -0.071859\n",
       "y    0.143799\n",
       "dtype: float64"
      ]
     },
     "execution_count": 18,
     "metadata": {},
     "output_type": "execute_result"
    }
   ],
   "source": [
    "X_df.kurtosis()"
   ]
  },
  {
   "cell_type": "code",
   "execution_count": 19,
   "id": "92fa4fbb",
   "metadata": {},
   "outputs": [
    {
     "data": {
      "image/png": "[encoded data removed]",
      "text/plain": [
       "<Figure size 432x288 with 1 Axes>"
      ]
     },
     "metadata": {
      "needs_background": "light"
     },
     "output_type": "display_data"
    }
   ],
   "source": [
    "stats.probplot(x = X_df['X'],dist='norm',plot=plt)\n",
    "plt.show()"
   ]
  },
  {
   "cell_type": "markdown",
   "id": "2f824b11",
   "metadata": {},
   "source": [
    "### 3. Multicollinearity Test - Passed."
   ]
  },
  {
   "cell_type": "markdown",
   "id": "c54b2c22",
   "metadata": {},
   "source": [
    "### 4. AutoRegression Test - Passed."
   ]
  },
  {
   "cell_type": "markdown",
   "id": "c4b91070",
   "metadata": {},
   "source": [
    "### 5. Homoscedasticity Test || 6. Zero Residual Mean Test"
   ]
  },
  {
   "cell_type": "markdown",
   "id": "804e9868",
   "metadata": {},
   "source": [
    "## Model Building"
   ]
  },
  {
   "cell_type": "code",
   "execution_count": 28,
   "id": "9f7d1ca9",
   "metadata": {},
   "outputs": [],
   "source": [
    "X = X_df[['X']]\n",
    "y = X_df[['y']]"
   ]
  },
  {
   "cell_type": "markdown",
   "id": "7d282d48",
   "metadata": {},
   "source": [
    "## Model Training using sklearn library"
   ]
  },
  {
   "cell_type": "code",
   "execution_count": 29,
   "id": "4399fbb0",
   "metadata": {},
   "outputs": [
    {
     "data": {
      "text/plain": [
       "LinearRegression()"
      ]
     },
     "execution_count": 29,
     "metadata": {},
     "output_type": "execute_result"
    }
   ],
   "source": [
    "from sklearn.linear_model import LinearRegression\n",
    "linear_model = LinearRegression() #Object Creation/Model Initialization\n",
    "linear_model.fit(X,y)"
   ]
  },
  {
   "cell_type": "code",
   "execution_count": 30,
   "id": "1a13b7d1",
   "metadata": {},
   "outputs": [
    {
     "data": {
      "text/plain": [
       "array([-0.19280967])"
      ]
     },
     "execution_count": 30,
     "metadata": {},
     "output_type": "execute_result"
    }
   ],
   "source": [
    "linear_model.intercept_"
   ]
  },
  {
   "cell_type": "code",
   "execution_count": 34,
   "id": "d43dac80",
   "metadata": {},
   "outputs": [
    {
     "data": {
      "text/plain": [
       "array([[9.91729239]])"
      ]
     },
     "execution_count": 34,
     "metadata": {},
     "output_type": "execute_result"
    }
   ],
   "source": [
    "linear_model.coef_"
   ]
  },
  {
   "cell_type": "markdown",
   "id": "3d4c2751",
   "metadata": {},
   "source": [
    "## Model Testing"
   ]
  },
  {
   "cell_type": "code",
   "execution_count": 36,
   "id": "935a63ca",
   "metadata": {},
   "outputs": [],
   "source": [
    "y_pred = linear_model.predict(X)"
   ]
  },
  {
   "cell_type": "markdown",
   "id": "145b1875",
   "metadata": {},
   "source": [
    "## Model Evaluation"
   ]
  },
  {
   "cell_type": "code",
   "execution_count": 37,
   "id": "b0204107",
   "metadata": {},
   "outputs": [
    {
     "data": {
      "text/html": [
       "<div>\n",
       "<style scoped>\n",
       "    .dataframe tbody tr th:only-of-type {\n",
       "        vertical-align: middle;\n",
       "    }\n",
       "\n",
       "    .dataframe tbody tr th {\n",
       "        vertical-align: top;\n",
       "    }\n",
       "\n",
       "    .dataframe thead th {\n",
       "        text-align: right;\n",
       "    }\n",
       "</style>\n",
       "<table border=\"1\" class=\"dataframe\">\n",
       "  <thead>\n",
       "    <tr style=\"text-align: right;\">\n",
       "      <th></th>\n",
       "      <th>y</th>\n",
       "    </tr>\n",
       "  </thead>\n",
       "  <tbody>\n",
       "    <tr>\n",
       "      <th>0</th>\n",
       "      <td>7.600599</td>\n",
       "    </tr>\n",
       "    <tr>\n",
       "      <th>1</th>\n",
       "      <td>4.496202</td>\n",
       "    </tr>\n",
       "    <tr>\n",
       "      <th>2</th>\n",
       "      <td>-7.811097</td>\n",
       "    </tr>\n",
       "    <tr>\n",
       "      <th>3</th>\n",
       "      <td>5.395802</td>\n",
       "    </tr>\n",
       "    <tr>\n",
       "      <th>4</th>\n",
       "      <td>25.709865</td>\n",
       "    </tr>\n",
       "    <tr>\n",
       "      <th>...</th>\n",
       "      <td>...</td>\n",
       "    </tr>\n",
       "    <tr>\n",
       "      <th>76</th>\n",
       "      <td>8.518311</td>\n",
       "    </tr>\n",
       "    <tr>\n",
       "      <th>77</th>\n",
       "      <td>-3.614204</td>\n",
       "    </tr>\n",
       "    <tr>\n",
       "      <th>78</th>\n",
       "      <td>-21.012626</td>\n",
       "    </tr>\n",
       "    <tr>\n",
       "      <th>79</th>\n",
       "      <td>5.840986</td>\n",
       "    </tr>\n",
       "    <tr>\n",
       "      <th>80</th>\n",
       "      <td>9.668463</td>\n",
       "    </tr>\n",
       "  </tbody>\n",
       "</table>\n",
       "<p>81 rows × 1 columns</p>\n",
       "</div>"
      ],
      "text/plain": [
       "            y\n",
       "0    7.600599\n",
       "1    4.496202\n",
       "2   -7.811097\n",
       "3    5.395802\n",
       "4   25.709865\n",
       "..        ...\n",
       "76   8.518311\n",
       "77  -3.614204\n",
       "78 -21.012626\n",
       "79   5.840986\n",
       "80   9.668463\n",
       "\n",
       "[81 rows x 1 columns]"
      ]
     },
     "execution_count": 37,
     "metadata": {},
     "output_type": "execute_result"
    }
   ],
   "source": [
    "y"
   ]
  },
  {
   "cell_type": "code",
   "execution_count": 38,
   "id": "794b267e",
   "metadata": {},
   "outputs": [
    {
     "data": {
      "text/plain": [
       "array([[  7.43834747],\n",
       "       [  3.24539534],\n",
       "       [ -7.63283168],\n",
       "       [  5.27295398],\n",
       "       [ 24.77774541],\n",
       "       [ -3.36330921],\n",
       "       [-14.18208865],\n",
       "       [  4.30611933],\n",
       "       [-13.1928915 ],\n",
       "       [  9.7872113 ],\n",
       "       [  2.19746119],\n",
       "       [ -5.88900397],\n",
       "       [-10.29060291],\n",
       "       [-16.77356122],\n",
       "       [ -6.72882291],\n",
       "       [  0.05397063],\n",
       "       [ -5.98968316],\n",
       "       [  5.41664841],\n",
       "       [ 13.05444532],\n",
       "       [ -3.46578815],\n",
       "       [ -1.42218001],\n",
       "       [  4.54880705],\n",
       "       [ -4.65575864],\n",
       "       [ -4.99290983],\n",
       "       [ 10.89093134],\n",
       "       [-20.14246673],\n",
       "       [  2.09977551],\n",
       "       [  3.50908772],\n",
       "       [  3.95807647],\n",
       "       [  2.9010162 ],\n",
       "       [ 18.48063293],\n",
       "       [-15.79036465],\n",
       "       [ -1.16369822],\n",
       "       [  7.12904821],\n",
       "       [-15.06215102],\n",
       "       [  1.17320323],\n",
       "       [-10.34913559],\n",
       "       [-15.89584205],\n",
       "       [ 16.72564134],\n",
       "       [ -6.70498112],\n",
       "       [ -5.90788887],\n",
       "       [-13.99747316],\n",
       "       [  6.38617016],\n",
       "       [  6.60524923],\n",
       "       [ -4.13838732],\n",
       "       [ 12.70142074],\n",
       "       [  3.30679019],\n",
       "       [  1.90135542],\n",
       "       [  6.93964204],\n",
       "       [  3.02411316],\n",
       "       [  3.96725069],\n",
       "       [ -3.34288948],\n",
       "       [  8.75316216],\n",
       "       [  7.1941971 ],\n",
       "       [-11.54781139],\n",
       "       [  0.8207661 ],\n",
       "       [ 13.40627255],\n",
       "       [ -1.7298959 ],\n",
       "       [ -1.48103314],\n",
       "       [  7.437501  ],\n",
       "       [  3.17765802],\n",
       "       [  1.69788668],\n",
       "       [ -3.51351878],\n",
       "       [ -8.6281252 ],\n",
       "       [ 10.89762456],\n",
       "       [  8.40745199],\n",
       "       [ -5.88946246],\n",
       "       [-13.36501335],\n",
       "       [ -5.52688056],\n",
       "       [ -4.75733475],\n",
       "       [ -4.53619831],\n",
       "       [ -3.30130946],\n",
       "       [ -8.4982239 ],\n",
       "       [ -5.47116998],\n",
       "       [ -4.92803445],\n",
       "       [  5.24952409],\n",
       "       [ 11.60600582],\n",
       "       [ -2.84059925],\n",
       "       [-20.45216674],\n",
       "       [  3.9965998 ],\n",
       "       [  7.2497692 ]])"
      ]
     },
     "execution_count": 38,
     "metadata": {},
     "output_type": "execute_result"
    }
   ],
   "source": [
    "y_pred"
   ]
  },
  {
   "cell_type": "code",
   "execution_count": 39,
   "id": "711d0680",
   "metadata": {},
   "outputs": [
    {
     "data": {
      "text/html": [
       "<div>\n",
       "<style scoped>\n",
       "    .dataframe tbody tr th:only-of-type {\n",
       "        vertical-align: middle;\n",
       "    }\n",
       "\n",
       "    .dataframe tbody tr th {\n",
       "        vertical-align: top;\n",
       "    }\n",
       "\n",
       "    .dataframe thead th {\n",
       "        text-align: right;\n",
       "    }\n",
       "</style>\n",
       "<table border=\"1\" class=\"dataframe\">\n",
       "  <thead>\n",
       "    <tr style=\"text-align: right;\">\n",
       "      <th></th>\n",
       "      <th>y</th>\n",
       "    </tr>\n",
       "  </thead>\n",
       "  <tbody>\n",
       "    <tr>\n",
       "      <th>0</th>\n",
       "      <td>0.162252</td>\n",
       "    </tr>\n",
       "    <tr>\n",
       "      <th>1</th>\n",
       "      <td>1.250806</td>\n",
       "    </tr>\n",
       "    <tr>\n",
       "      <th>2</th>\n",
       "      <td>-0.178266</td>\n",
       "    </tr>\n",
       "    <tr>\n",
       "      <th>3</th>\n",
       "      <td>0.122848</td>\n",
       "    </tr>\n",
       "    <tr>\n",
       "      <th>4</th>\n",
       "      <td>0.932120</td>\n",
       "    </tr>\n",
       "    <tr>\n",
       "      <th>...</th>\n",
       "      <td>...</td>\n",
       "    </tr>\n",
       "    <tr>\n",
       "      <th>76</th>\n",
       "      <td>-3.087695</td>\n",
       "    </tr>\n",
       "    <tr>\n",
       "      <th>77</th>\n",
       "      <td>-0.773605</td>\n",
       "    </tr>\n",
       "    <tr>\n",
       "      <th>78</th>\n",
       "      <td>-0.560459</td>\n",
       "    </tr>\n",
       "    <tr>\n",
       "      <th>79</th>\n",
       "      <td>1.844386</td>\n",
       "    </tr>\n",
       "    <tr>\n",
       "      <th>80</th>\n",
       "      <td>2.418694</td>\n",
       "    </tr>\n",
       "  </tbody>\n",
       "</table>\n",
       "<p>81 rows × 1 columns</p>\n",
       "</div>"
      ],
      "text/plain": [
       "           y\n",
       "0   0.162252\n",
       "1   1.250806\n",
       "2  -0.178266\n",
       "3   0.122848\n",
       "4   0.932120\n",
       "..       ...\n",
       "76 -3.087695\n",
       "77 -0.773605\n",
       "78 -0.560459\n",
       "79  1.844386\n",
       "80  2.418694\n",
       "\n",
       "[81 rows x 1 columns]"
      ]
     },
     "execution_count": 39,
     "metadata": {},
     "output_type": "execute_result"
    }
   ],
   "source": [
    "error = y - y_pred\n",
    "error"
   ]
  },
  {
   "cell_type": "markdown",
   "id": "2fe7543c",
   "metadata": {},
   "source": [
    "### 5. Homoscedasticity Check"
   ]
  },
  {
   "cell_type": "code",
   "execution_count": 42,
   "id": "ffdff17d",
   "metadata": {},
   "outputs": [
    {
     "data": {
      "image/png": "[encoded data removed]",
      "text/plain": [
       "<Figure size 432x288 with 1 Axes>"
      ]
     },
     "metadata": {
      "needs_background": "light"
     },
     "output_type": "display_data"
    }
   ],
   "source": [
    "plt.scatter(x = X_df['X'],y = error)\n",
    "plt.title('Homoscedasticity Check - X Vs Error')\n",
    "plt.xlabel('X')\n",
    "plt.ylabel('Error')\n",
    "plt.show()"
   ]
  },
  {
   "cell_type": "markdown",
   "id": "8d98e669",
   "metadata": {},
   "source": [
    "### 6. Zero Residual Mean Test\n",
    "\n",
    "It is a plot between **Actual Output Vs Predicted Plot**."
   ]
  },
  {
   "cell_type": "code",
   "execution_count": 43,
   "id": "1db2dc7f",
   "metadata": {},
   "outputs": [
    {
     "data": {
      "image/png": "[encoded data removed]",
      "text/plain": [
       "<Figure size 432x288 with 1 Axes>"
      ]
     },
     "metadata": {
      "needs_background": "light"
     },
     "output_type": "display_data"
    }
   ],
   "source": [
    "plt.scatter(x = y,y = y_pred)\n",
    "plt.title('Actual Output Vs Predicted Output')\n",
    "plt.xlabel('Actual Output')\n",
    "plt.ylabel('Predicted Output')\n",
    "plt.show()"
   ]
  },
  {
   "cell_type": "markdown",
   "id": "be68e091",
   "metadata": {},
   "source": [
    "### Zero residual Mean Test is Passed."
   ]
  },
  {
   "cell_type": "markdown",
   "id": "93118d4d",
   "metadata": {},
   "source": [
    "## ======================================================================="
   ]
  },
  {
   "cell_type": "markdown",
   "id": "4e73cfc0",
   "metadata": {},
   "source": [
    "### COME BACK to CARS DATA"
   ]
  },
  {
   "cell_type": "code",
   "execution_count": 44,
   "id": "66e58a4a",
   "metadata": {},
   "outputs": [
    {
     "data": {
      "text/html": [
       "<div>\n",
       "<style scoped>\n",
       "    .dataframe tbody tr th:only-of-type {\n",
       "        vertical-align: middle;\n",
       "    }\n",
       "\n",
       "    .dataframe tbody tr th {\n",
       "        vertical-align: top;\n",
       "    }\n",
       "\n",
       "    .dataframe thead th {\n",
       "        text-align: right;\n",
       "    }\n",
       "</style>\n",
       "<table border=\"1\" class=\"dataframe\">\n",
       "  <thead>\n",
       "    <tr style=\"text-align: right;\">\n",
       "      <th></th>\n",
       "      <th>HP</th>\n",
       "      <th>MPG</th>\n",
       "      <th>VOL</th>\n",
       "      <th>SP</th>\n",
       "      <th>WT</th>\n",
       "    </tr>\n",
       "  </thead>\n",
       "  <tbody>\n",
       "    <tr>\n",
       "      <th>0</th>\n",
       "      <td>49</td>\n",
       "      <td>53.700681</td>\n",
       "      <td>89</td>\n",
       "      <td>104.185353</td>\n",
       "      <td>28.762059</td>\n",
       "    </tr>\n",
       "    <tr>\n",
       "      <th>1</th>\n",
       "      <td>55</td>\n",
       "      <td>50.013401</td>\n",
       "      <td>92</td>\n",
       "      <td>105.461264</td>\n",
       "      <td>30.466833</td>\n",
       "    </tr>\n",
       "    <tr>\n",
       "      <th>2</th>\n",
       "      <td>55</td>\n",
       "      <td>50.013401</td>\n",
       "      <td>92</td>\n",
       "      <td>105.461264</td>\n",
       "      <td>30.193597</td>\n",
       "    </tr>\n",
       "    <tr>\n",
       "      <th>3</th>\n",
       "      <td>70</td>\n",
       "      <td>45.696322</td>\n",
       "      <td>92</td>\n",
       "      <td>113.461264</td>\n",
       "      <td>30.632114</td>\n",
       "    </tr>\n",
       "    <tr>\n",
       "      <th>4</th>\n",
       "      <td>53</td>\n",
       "      <td>50.504232</td>\n",
       "      <td>92</td>\n",
       "      <td>104.461264</td>\n",
       "      <td>29.889149</td>\n",
       "    </tr>\n",
       "    <tr>\n",
       "      <th>...</th>\n",
       "      <td>...</td>\n",
       "      <td>...</td>\n",
       "      <td>...</td>\n",
       "      <td>...</td>\n",
       "      <td>...</td>\n",
       "    </tr>\n",
       "    <tr>\n",
       "      <th>76</th>\n",
       "      <td>322</td>\n",
       "      <td>36.900000</td>\n",
       "      <td>50</td>\n",
       "      <td>169.598513</td>\n",
       "      <td>16.132947</td>\n",
       "    </tr>\n",
       "    <tr>\n",
       "      <th>77</th>\n",
       "      <td>238</td>\n",
       "      <td>19.197888</td>\n",
       "      <td>115</td>\n",
       "      <td>150.576579</td>\n",
       "      <td>37.923113</td>\n",
       "    </tr>\n",
       "    <tr>\n",
       "      <th>78</th>\n",
       "      <td>263</td>\n",
       "      <td>34.000000</td>\n",
       "      <td>50</td>\n",
       "      <td>151.598513</td>\n",
       "      <td>15.769625</td>\n",
       "    </tr>\n",
       "    <tr>\n",
       "      <th>79</th>\n",
       "      <td>295</td>\n",
       "      <td>19.833733</td>\n",
       "      <td>119</td>\n",
       "      <td>167.944460</td>\n",
       "      <td>39.423099</td>\n",
       "    </tr>\n",
       "    <tr>\n",
       "      <th>80</th>\n",
       "      <td>236</td>\n",
       "      <td>12.101263</td>\n",
       "      <td>107</td>\n",
       "      <td>139.840817</td>\n",
       "      <td>34.948615</td>\n",
       "    </tr>\n",
       "  </tbody>\n",
       "</table>\n",
       "<p>81 rows × 5 columns</p>\n",
       "</div>"
      ],
      "text/plain": [
       "     HP        MPG  VOL          SP         WT\n",
       "0    49  53.700681   89  104.185353  28.762059\n",
       "1    55  50.013401   92  105.461264  30.466833\n",
       "2    55  50.013401   92  105.461264  30.193597\n",
       "3    70  45.696322   92  113.461264  30.632114\n",
       "4    53  50.504232   92  104.461264  29.889149\n",
       "..  ...        ...  ...         ...        ...\n",
       "76  322  36.900000   50  169.598513  16.132947\n",
       "77  238  19.197888  115  150.576579  37.923113\n",
       "78  263  34.000000   50  151.598513  15.769625\n",
       "79  295  19.833733  119  167.944460  39.423099\n",
       "80  236  12.101263  107  139.840817  34.948615\n",
       "\n",
       "[81 rows x 5 columns]"
      ]
     },
     "execution_count": 44,
     "metadata": {},
     "output_type": "execute_result"
    }
   ],
   "source": [
    "cars_data"
   ]
  },
  {
   "cell_type": "markdown",
   "id": "e67e9a81",
   "metadata": {},
   "source": [
    "### Model Building"
   ]
  },
  {
   "cell_type": "code",
   "execution_count": 79,
   "id": "85319a29",
   "metadata": {},
   "outputs": [],
   "source": [
    "X = cars_data.drop(['MPG'],axis = 1)\n",
    "y = cars_data[['MPG']]"
   ]
  },
  {
   "cell_type": "code",
   "execution_count": 63,
   "id": "65276507",
   "metadata": {},
   "outputs": [
    {
     "data": {
      "text/plain": [
       "Index(['HP', 'VOL', 'SP', 'WT'], dtype='object')"
      ]
     },
     "execution_count": 63,
     "metadata": {},
     "output_type": "execute_result"
    }
   ],
   "source": [
    "X.columns"
   ]
  },
  {
   "cell_type": "code",
   "execution_count": 65,
   "id": "d9752fd1",
   "metadata": {},
   "outputs": [
    {
     "data": {
      "text/html": [
       "<div>\n",
       "<style scoped>\n",
       "    .dataframe tbody tr th:only-of-type {\n",
       "        vertical-align: middle;\n",
       "    }\n",
       "\n",
       "    .dataframe tbody tr th {\n",
       "        vertical-align: top;\n",
       "    }\n",
       "\n",
       "    .dataframe thead th {\n",
       "        text-align: right;\n",
       "    }\n",
       "</style>\n",
       "<table border=\"1\" class=\"dataframe\">\n",
       "  <thead>\n",
       "    <tr style=\"text-align: right;\">\n",
       "      <th></th>\n",
       "      <th>HP</th>\n",
       "      <th>VOL</th>\n",
       "      <th>SP</th>\n",
       "      <th>WT</th>\n",
       "    </tr>\n",
       "  </thead>\n",
       "  <tbody>\n",
       "    <tr>\n",
       "      <th>0</th>\n",
       "      <td>-1.206295</td>\n",
       "      <td>-0.440611</td>\n",
       "      <td>-1.231403</td>\n",
       "      <td>-0.490238</td>\n",
       "    </tr>\n",
       "    <tr>\n",
       "      <th>1</th>\n",
       "      <td>-1.100587</td>\n",
       "      <td>-0.305252</td>\n",
       "      <td>-1.140871</td>\n",
       "      <td>-0.261299</td>\n",
       "    </tr>\n",
       "    <tr>\n",
       "      <th>2</th>\n",
       "      <td>-1.100587</td>\n",
       "      <td>-0.305252</td>\n",
       "      <td>-1.140871</td>\n",
       "      <td>-0.297993</td>\n",
       "    </tr>\n",
       "    <tr>\n",
       "      <th>3</th>\n",
       "      <td>-0.836315</td>\n",
       "      <td>-0.305252</td>\n",
       "      <td>-0.573239</td>\n",
       "      <td>-0.239103</td>\n",
       "    </tr>\n",
       "    <tr>\n",
       "      <th>4</th>\n",
       "      <td>-1.135823</td>\n",
       "      <td>-0.305252</td>\n",
       "      <td>-1.211826</td>\n",
       "      <td>-0.338878</td>\n",
       "    </tr>\n",
       "    <tr>\n",
       "      <th>...</th>\n",
       "      <td>...</td>\n",
       "      <td>...</td>\n",
       "      <td>...</td>\n",
       "      <td>...</td>\n",
       "    </tr>\n",
       "    <tr>\n",
       "      <th>76</th>\n",
       "      <td>3.603442</td>\n",
       "      <td>-2.200268</td>\n",
       "      <td>3.409929</td>\n",
       "      <td>-2.186236</td>\n",
       "    </tr>\n",
       "    <tr>\n",
       "      <th>77</th>\n",
       "      <td>2.123523</td>\n",
       "      <td>0.732494</td>\n",
       "      <td>2.060245</td>\n",
       "      <td>0.740025</td>\n",
       "    </tr>\n",
       "    <tr>\n",
       "      <th>78</th>\n",
       "      <td>2.563975</td>\n",
       "      <td>-2.200268</td>\n",
       "      <td>2.132755</td>\n",
       "      <td>-2.235028</td>\n",
       "    </tr>\n",
       "    <tr>\n",
       "      <th>79</th>\n",
       "      <td>3.127754</td>\n",
       "      <td>0.912972</td>\n",
       "      <td>3.292567</td>\n",
       "      <td>0.941462</td>\n",
       "    </tr>\n",
       "    <tr>\n",
       "      <th>80</th>\n",
       "      <td>2.088287</td>\n",
       "      <td>0.371539</td>\n",
       "      <td>1.298499</td>\n",
       "      <td>0.340572</td>\n",
       "    </tr>\n",
       "  </tbody>\n",
       "</table>\n",
       "<p>81 rows × 4 columns</p>\n",
       "</div>"
      ],
      "text/plain": [
       "          HP       VOL        SP        WT\n",
       "0  -1.206295 -0.440611 -1.231403 -0.490238\n",
       "1  -1.100587 -0.305252 -1.140871 -0.261299\n",
       "2  -1.100587 -0.305252 -1.140871 -0.297993\n",
       "3  -0.836315 -0.305252 -0.573239 -0.239103\n",
       "4  -1.135823 -0.305252 -1.211826 -0.338878\n",
       "..       ...       ...       ...       ...\n",
       "76  3.603442 -2.200268  3.409929 -2.186236\n",
       "77  2.123523  0.732494  2.060245  0.740025\n",
       "78  2.563975 -2.200268  2.132755 -2.235028\n",
       "79  3.127754  0.912972  3.292567  0.941462\n",
       "80  2.088287  0.371539  1.298499  0.340572\n",
       "\n",
       "[81 rows x 4 columns]"
      ]
     },
     "execution_count": 65,
     "metadata": {},
     "output_type": "execute_result"
    }
   ],
   "source": [
    "from sklearn.preprocessing import StandardScaler\n",
    "std_scaler = StandardScaler()\n",
    "X_scaled = std_scaler.fit_transform(X)\n",
    "X_scaled = pd.DataFrame(data=X_scaled,columns = X.columns)\n",
    "X_scaled"
   ]
  },
  {
   "cell_type": "markdown",
   "id": "78d0b7e6",
   "metadata": {},
   "source": [
    "#### Before Scaling"
   ]
  },
  {
   "cell_type": "code",
   "execution_count": 66,
   "id": "e3ce4b01",
   "metadata": {},
   "outputs": [
    {
     "data": {
      "text/plain": [
       "HP     117.469136\n",
       "VOL     98.765432\n",
       "SP     121.540272\n",
       "WT      32.412577\n",
       "dtype: float64"
      ]
     },
     "execution_count": 66,
     "metadata": {},
     "output_type": "execute_result"
    }
   ],
   "source": [
    "X.mean()"
   ]
  },
  {
   "cell_type": "code",
   "execution_count": 67,
   "id": "e5ecfd24",
   "metadata": {},
   "outputs": [
    {
     "data": {
      "text/plain": [
       "HP     57.113502\n",
       "VOL    22.301497\n",
       "SP     14.181432\n",
       "WT      7.492813\n",
       "dtype: float64"
      ]
     },
     "execution_count": 67,
     "metadata": {},
     "output_type": "execute_result"
    }
   ],
   "source": [
    "X.std()"
   ]
  },
  {
   "cell_type": "markdown",
   "id": "e9247eb1",
   "metadata": {},
   "source": [
    "#### After Scaling "
   ]
  },
  {
   "cell_type": "code",
   "execution_count": 68,
   "id": "826a6041",
   "metadata": {},
   "outputs": [
    {
     "data": {
      "text/plain": [
       "HP    -1.041691e-16\n",
       "VOL    5.825244e-17\n",
       "SP     1.274701e-15\n",
       "WT     1.170531e-15\n",
       "dtype: float64"
      ]
     },
     "execution_count": 68,
     "metadata": {},
     "output_type": "execute_result"
    }
   ],
   "source": [
    "X_scaled.mean()"
   ]
  },
  {
   "cell_type": "code",
   "execution_count": 69,
   "id": "f4952cdb",
   "metadata": {},
   "outputs": [
    {
     "data": {
      "text/plain": [
       "HP     1.006231\n",
       "VOL    1.006231\n",
       "SP     1.006231\n",
       "WT     1.006231\n",
       "dtype: float64"
      ]
     },
     "execution_count": 69,
     "metadata": {},
     "output_type": "execute_result"
    }
   ],
   "source": [
    "X_scaled.std()"
   ]
  },
  {
   "cell_type": "markdown",
   "id": "44953563",
   "metadata": {},
   "source": [
    "### Model Training"
   ]
  },
  {
   "cell_type": "code",
   "execution_count": 70,
   "id": "0d714164",
   "metadata": {},
   "outputs": [
    {
     "data": {
      "text/plain": [
       "LinearRegression()"
      ]
     },
     "execution_count": 70,
     "metadata": {},
     "output_type": "execute_result"
    }
   ],
   "source": [
    "linear_model_2 = LinearRegression()\n",
    "linear_model_2.fit(X_scaled,y)"
   ]
  },
  {
   "cell_type": "code",
   "execution_count": 71,
   "id": "2319a50d",
   "metadata": {},
   "outputs": [
    {
     "data": {
      "text/plain": [
       "array([[-11.66095549,  -7.44803145,   5.57581553,   2.98284187]])"
      ]
     },
     "execution_count": 71,
     "metadata": {},
     "output_type": "execute_result"
    }
   ],
   "source": [
    "linear_model_2.coef_"
   ]
  },
  {
   "cell_type": "code",
   "execution_count": 72,
   "id": "c6af9c1e",
   "metadata": {},
   "outputs": [
    {
     "data": {
      "text/plain": [
       "array([34.42207573])"
      ]
     },
     "execution_count": 72,
     "metadata": {},
     "output_type": "execute_result"
    }
   ],
   "source": [
    "linear_model_2.intercept_"
   ]
  },
  {
   "cell_type": "markdown",
   "id": "9043a4c3",
   "metadata": {},
   "source": [
    "### Model Testing"
   ]
  },
  {
   "cell_type": "code",
   "execution_count": 73,
   "id": "0e4e11f1",
   "metadata": {},
   "outputs": [],
   "source": [
    "y_pred = linear_model_2.predict(X_scaled)"
   ]
  },
  {
   "cell_type": "markdown",
   "id": "46a3042c",
   "metadata": {},
   "source": [
    "### Model Evaluation"
   ]
  },
  {
   "cell_type": "code",
   "execution_count": 74,
   "id": "aa586e2e",
   "metadata": {},
   "outputs": [
    {
     "data": {
      "text/html": [
       "<div>\n",
       "<style scoped>\n",
       "    .dataframe tbody tr th:only-of-type {\n",
       "        vertical-align: middle;\n",
       "    }\n",
       "\n",
       "    .dataframe tbody tr th {\n",
       "        vertical-align: top;\n",
       "    }\n",
       "\n",
       "    .dataframe thead th {\n",
       "        text-align: right;\n",
       "    }\n",
       "</style>\n",
       "<table border=\"1\" class=\"dataframe\">\n",
       "  <thead>\n",
       "    <tr style=\"text-align: right;\">\n",
       "      <th></th>\n",
       "      <th>MPG</th>\n",
       "    </tr>\n",
       "  </thead>\n",
       "  <tbody>\n",
       "    <tr>\n",
       "      <th>0</th>\n",
       "      <td>10.258747</td>\n",
       "    </tr>\n",
       "    <tr>\n",
       "      <th>1</th>\n",
       "      <td>7.624608</td>\n",
       "    </tr>\n",
       "    <tr>\n",
       "      <th>2</th>\n",
       "      <td>7.734060</td>\n",
       "    </tr>\n",
       "    <tr>\n",
       "      <th>3</th>\n",
       "      <td>3.157963</td>\n",
       "    </tr>\n",
       "    <tr>\n",
       "      <th>4</th>\n",
       "      <td>8.331584</td>\n",
       "    </tr>\n",
       "    <tr>\n",
       "      <th>...</th>\n",
       "      <td>...</td>\n",
       "    </tr>\n",
       "    <tr>\n",
       "      <th>76</th>\n",
       "      <td>15.617904</td>\n",
       "    </tr>\n",
       "    <tr>\n",
       "      <th>77</th>\n",
       "      <td>1.298838</td>\n",
       "    </tr>\n",
       "    <tr>\n",
       "      <th>78</th>\n",
       "      <td>7.863547</td>\n",
       "    </tr>\n",
       "    <tr>\n",
       "      <th>79</th>\n",
       "      <td>7.517122</td>\n",
       "    </tr>\n",
       "    <tr>\n",
       "      <th>80</th>\n",
       "      <td>-3.458218</td>\n",
       "    </tr>\n",
       "  </tbody>\n",
       "</table>\n",
       "<p>81 rows × 1 columns</p>\n",
       "</div>"
      ],
      "text/plain": [
       "          MPG\n",
       "0   10.258747\n",
       "1    7.624608\n",
       "2    7.734060\n",
       "3    3.157963\n",
       "4    8.331584\n",
       "..        ...\n",
       "76  15.617904\n",
       "77   1.298838\n",
       "78   7.863547\n",
       "79   7.517122\n",
       "80  -3.458218\n",
       "\n",
       "[81 rows x 1 columns]"
      ]
     },
     "execution_count": 74,
     "metadata": {},
     "output_type": "execute_result"
    }
   ],
   "source": [
    "error_cars = y - y_pred\n",
    "error_cars"
   ]
  },
  {
   "cell_type": "markdown",
   "id": "19af8fbb",
   "metadata": {},
   "source": [
    "## 5. Homoscedascity Check"
   ]
  },
  {
   "cell_type": "code",
   "execution_count": 75,
   "id": "cd39587b",
   "metadata": {},
   "outputs": [
    {
     "data": {
      "image/png": "[encoded data removed]",
      "text/plain": [
       "<Figure size 432x288 with 1 Axes>"
      ]
     },
     "metadata": {
      "needs_background": "light"
     },
     "output_type": "display_data"
    }
   ],
   "source": [
    "plt.scatter(x = cars_data['HP'],y = error_cars)\n",
    "plt.title('Homoscedasticity Check - HP Vs Error')\n",
    "plt.xlabel('HP')\n",
    "plt.ylabel('Error')\n",
    "plt.show()"
   ]
  },
  {
   "cell_type": "code",
   "execution_count": 76,
   "id": "cb666fb3",
   "metadata": {},
   "outputs": [
    {
     "data": {
      "image/png": "[encoded data removed]",
      "text/plain": [
       "<Figure size 432x288 with 1 Axes>"
      ]
     },
     "metadata": {
      "needs_background": "light"
     },
     "output_type": "display_data"
    }
   ],
   "source": [
    "plt.scatter(x = cars_data['VOL'],y = error_cars)\n",
    "plt.title('Homoscedasticity Check - VOL Vs Error')\n",
    "plt.xlabel('VOL')\n",
    "plt.ylabel('Error')\n",
    "plt.show()"
   ]
  },
  {
   "cell_type": "code",
   "execution_count": 77,
   "id": "747e5143",
   "metadata": {},
   "outputs": [
    {
     "data": {
      "image/png": "[encoded data removed]",
      "text/plain": [
       "<Figure size 432x288 with 1 Axes>"
      ]
     },
     "metadata": {
      "needs_background": "light"
     },
     "output_type": "display_data"
    }
   ],
   "source": [
    "plt.scatter(x = cars_data['SP'],y = error_cars)\n",
    "plt.title('Homoscedasticity Check - SP Vs Error')\n",
    "plt.xlabel('SP')\n",
    "plt.ylabel('Error')\n",
    "plt.show()"
   ]
  },
  {
   "cell_type": "code",
   "execution_count": 78,
   "id": "ae380810",
   "metadata": {},
   "outputs": [
    {
     "data": {
      "image/png": "[encoded data removed]",
      "text/plain": [
       "<Figure size 432x288 with 1 Axes>"
      ]
     },
     "metadata": {
      "needs_background": "light"
     },
     "output_type": "display_data"
    }
   ],
   "source": [
    "plt.scatter(x = cars_data['WT'],y = error_cars)\n",
    "plt.title('Homoscedasticity Check - WT Vs Error')\n",
    "plt.xlabel('WT')\n",
    "plt.ylabel('Error')\n",
    "plt.show()"
   ]
  },
  {
   "cell_type": "markdown",
   "id": "d8f4e223",
   "metadata": {},
   "source": [
    "#### Homoscedascity Test Failed."
   ]
  },
  {
   "cell_type": "markdown",
   "id": "6b4c76fb",
   "metadata": {},
   "source": [
    "### 6. Zero Residual Mean Test\n",
    "\n",
    "It is a plot between **Actual Output Vs Predicted Plot**."
   ]
  },
  {
   "cell_type": "code",
   "execution_count": 80,
   "id": "841aa362",
   "metadata": {},
   "outputs": [
    {
     "data": {
      "image/png": "[encoded data removed]",
      "text/plain": [
       "<Figure size 432x288 with 1 Axes>"
      ]
     },
     "metadata": {
      "needs_background": "light"
     },
     "output_type": "display_data"
    }
   ],
   "source": [
    "plt.scatter(x = y,y = y_pred)\n",
    "plt.title('Actual Output Vs Predicted Output')\n",
    "plt.xlabel('Actual Output')\n",
    "plt.ylabel('Predicted Output')\n",
    "plt.show()"
   ]
  },
  {
   "cell_type": "markdown",
   "id": "d423b17b",
   "metadata": {},
   "source": [
    "#### Zero Residual Mean Test also Failed."
   ]
  },
  {
   "cell_type": "markdown",
   "id": "ce20a0c8",
   "metadata": {},
   "source": [
    "## ======================================================================="
   ]
  },
  {
   "cell_type": "markdown",
   "id": "71da047e",
   "metadata": {},
   "source": [
    "# Model Optimization Techniques"
   ]
  },
  {
   "cell_type": "code",
   "execution_count": 4,
   "id": "0f43a9be",
   "metadata": {},
   "outputs": [
    {
     "data": {
      "text/html": [
       "<div>\n",
       "<style scoped>\n",
       "    .dataframe tbody tr th:only-of-type {\n",
       "        vertical-align: middle;\n",
       "    }\n",
       "\n",
       "    .dataframe tbody tr th {\n",
       "        vertical-align: top;\n",
       "    }\n",
       "\n",
       "    .dataframe thead th {\n",
       "        text-align: right;\n",
       "    }\n",
       "</style>\n",
       "<table border=\"1\" class=\"dataframe\">\n",
       "  <thead>\n",
       "    <tr style=\"text-align: right;\">\n",
       "      <th></th>\n",
       "      <th>HP</th>\n",
       "      <th>MPG</th>\n",
       "      <th>VOL</th>\n",
       "      <th>SP</th>\n",
       "      <th>WT</th>\n",
       "    </tr>\n",
       "  </thead>\n",
       "  <tbody>\n",
       "    <tr>\n",
       "      <th>0</th>\n",
       "      <td>49</td>\n",
       "      <td>53.700681</td>\n",
       "      <td>89</td>\n",
       "      <td>104.185353</td>\n",
       "      <td>28.762059</td>\n",
       "    </tr>\n",
       "    <tr>\n",
       "      <th>1</th>\n",
       "      <td>55</td>\n",
       "      <td>50.013401</td>\n",
       "      <td>92</td>\n",
       "      <td>105.461264</td>\n",
       "      <td>30.466833</td>\n",
       "    </tr>\n",
       "    <tr>\n",
       "      <th>2</th>\n",
       "      <td>55</td>\n",
       "      <td>50.013401</td>\n",
       "      <td>92</td>\n",
       "      <td>105.461264</td>\n",
       "      <td>30.193597</td>\n",
       "    </tr>\n",
       "    <tr>\n",
       "      <th>3</th>\n",
       "      <td>70</td>\n",
       "      <td>45.696322</td>\n",
       "      <td>92</td>\n",
       "      <td>113.461264</td>\n",
       "      <td>30.632114</td>\n",
       "    </tr>\n",
       "    <tr>\n",
       "      <th>4</th>\n",
       "      <td>53</td>\n",
       "      <td>50.504232</td>\n",
       "      <td>92</td>\n",
       "      <td>104.461264</td>\n",
       "      <td>29.889149</td>\n",
       "    </tr>\n",
       "    <tr>\n",
       "      <th>...</th>\n",
       "      <td>...</td>\n",
       "      <td>...</td>\n",
       "      <td>...</td>\n",
       "      <td>...</td>\n",
       "      <td>...</td>\n",
       "    </tr>\n",
       "    <tr>\n",
       "      <th>76</th>\n",
       "      <td>322</td>\n",
       "      <td>36.900000</td>\n",
       "      <td>50</td>\n",
       "      <td>169.598513</td>\n",
       "      <td>16.132947</td>\n",
       "    </tr>\n",
       "    <tr>\n",
       "      <th>77</th>\n",
       "      <td>238</td>\n",
       "      <td>19.197888</td>\n",
       "      <td>115</td>\n",
       "      <td>150.576579</td>\n",
       "      <td>37.923113</td>\n",
       "    </tr>\n",
       "    <tr>\n",
       "      <th>78</th>\n",
       "      <td>263</td>\n",
       "      <td>34.000000</td>\n",
       "      <td>50</td>\n",
       "      <td>151.598513</td>\n",
       "      <td>15.769625</td>\n",
       "    </tr>\n",
       "    <tr>\n",
       "      <th>79</th>\n",
       "      <td>295</td>\n",
       "      <td>19.833733</td>\n",
       "      <td>119</td>\n",
       "      <td>167.944460</td>\n",
       "      <td>39.423099</td>\n",
       "    </tr>\n",
       "    <tr>\n",
       "      <th>80</th>\n",
       "      <td>236</td>\n",
       "      <td>12.101263</td>\n",
       "      <td>107</td>\n",
       "      <td>139.840817</td>\n",
       "      <td>34.948615</td>\n",
       "    </tr>\n",
       "  </tbody>\n",
       "</table>\n",
       "<p>81 rows × 5 columns</p>\n",
       "</div>"
      ],
      "text/plain": [
       "     HP        MPG  VOL          SP         WT\n",
       "0    49  53.700681   89  104.185353  28.762059\n",
       "1    55  50.013401   92  105.461264  30.466833\n",
       "2    55  50.013401   92  105.461264  30.193597\n",
       "3    70  45.696322   92  113.461264  30.632114\n",
       "4    53  50.504232   92  104.461264  29.889149\n",
       "..  ...        ...  ...         ...        ...\n",
       "76  322  36.900000   50  169.598513  16.132947\n",
       "77  238  19.197888  115  150.576579  37.923113\n",
       "78  263  34.000000   50  151.598513  15.769625\n",
       "79  295  19.833733  119  167.944460  39.423099\n",
       "80  236  12.101263  107  139.840817  34.948615\n",
       "\n",
       "[81 rows x 5 columns]"
      ]
     },
     "execution_count": 4,
     "metadata": {},
     "output_type": "execute_result"
    }
   ],
   "source": [
    "cars_data"
   ]
  },
  {
   "cell_type": "markdown",
   "id": "6ee89e7d",
   "metadata": {},
   "source": [
    "### Model Building | Model Training using Statsmodels"
   ]
  },
  {
   "cell_type": "code",
   "execution_count": 5,
   "id": "5537650b",
   "metadata": {},
   "outputs": [],
   "source": [
    "import statsmodels.formula.api as smf"
   ]
  },
  {
   "cell_type": "code",
   "execution_count": 6,
   "id": "954a2796",
   "metadata": {},
   "outputs": [],
   "source": [
    "model = smf.ols(formula = 'MPG~VOL+SP+HP+WT', data = cars_data).fit()"
   ]
  },
  {
   "cell_type": "code",
   "execution_count": 7,
   "id": "3b3ac83f",
   "metadata": {},
   "outputs": [
    {
     "data": {
      "text/plain": [
       "Intercept    30.677336\n",
       "VOL          -0.336051\n",
       "SP            0.395627\n",
       "HP           -0.205444\n",
       "WT            0.400574\n",
       "dtype: float64"
      ]
     },
     "execution_count": 7,
     "metadata": {},
     "output_type": "execute_result"
    }
   ],
   "source": [
    "model.params"
   ]
  },
  {
   "cell_type": "code",
   "execution_count": 8,
   "id": "3e478f88",
   "metadata": {},
   "outputs": [
    {
     "data": {
      "text/plain": [
       "Intercept    0.042936\n",
       "VOL          0.556294\n",
       "SP           0.014579\n",
       "HP           0.000001\n",
       "WT           0.813649\n",
       "dtype: float64"
      ]
     },
     "execution_count": 8,
     "metadata": {},
     "output_type": "execute_result"
    }
   ],
   "source": [
    "model.pvalues"
   ]
  },
  {
   "cell_type": "markdown",
   "id": "8bb3fc62",
   "metadata": {},
   "source": [
    "### ======================================================================================"
   ]
  },
  {
   "cell_type": "markdown",
   "id": "a4cd722a",
   "metadata": {},
   "source": [
    "## Hypothesis Statement\n",
    "\n",
    "* H0 : This feature is not significant for prediction.\n",
    "* Ha : This is a significant feature for prediction.\n",
    "* 5% LOS."
   ]
  },
  {
   "cell_type": "markdown",
   "id": "4434cefb",
   "metadata": {},
   "source": [
    "### ======================================================================================"
   ]
  },
  {
   "cell_type": "code",
   "execution_count": 36,
   "id": "420dd5af",
   "metadata": {},
   "outputs": [
    {
     "name": "stdout",
     "output_type": "stream",
     "text": [
      "R-square                           :  0.5257\n",
      "Adjusted R-square                  :  0.5197\n",
      "Akaike information criterion (AIC) :  530.7453\n",
      "Bayesian information criterion(BIC):  535.5342\n"
     ]
    }
   ],
   "source": [
    "model_1 = smf.ols(formula = 'MPG~HP', data = cars_data).fit()\n",
    "print('R-square                           : ',round(model_1.rsquared,4))\n",
    "print('Adjusted R-square                  : ',round(model_1.rsquared_adj,4))\n",
    "print('Akaike information criterion (AIC) : ',round(model_1.aic,4))\n",
    "print('Bayesian information criterion(BIC): ',round(model_1.bic,4))"
   ]
  },
  {
   "cell_type": "code",
   "execution_count": 37,
   "id": "847161ce",
   "metadata": {},
   "outputs": [
    {
     "name": "stdout",
     "output_type": "stream",
     "text": [
      "R-square                           :  0.5326\n",
      "Adjusted R-square                  :  0.5207\n",
      "Akaike information criterion (AIC) :  531.5481\n",
      "Bayesian information criterion(BIC):  538.7315\n"
     ]
    }
   ],
   "source": [
    "model_2 = smf.ols(formula = 'MPG~HP+SP', data = cars_data).fit()\n",
    "print('R-square                           : ',round(model_2.rsquared,4))\n",
    "print('Adjusted R-square                  : ',round(model_2.rsquared_adj,4))\n",
    "print('Akaike information criterion (AIC) : ',round(model_2.aic,4))\n",
    "print('Bayesian information criterion(BIC): ',round(model_2.bic,4))"
   ]
  },
  {
   "cell_type": "code",
   "execution_count": 38,
   "id": "870ee24f",
   "metadata": {},
   "outputs": [
    {
     "name": "stdout",
     "output_type": "stream",
     "text": [
      "R-square                           :  0.7695\n",
      "Adjusted R-square                  :  0.7605\n",
      "Akaike information criterion (AIC) :  476.2993\n",
      "Bayesian information criterion(BIC):  485.8771\n"
     ]
    }
   ],
   "source": [
    "model_3 = smf.ols(formula = 'MPG~HP+SP+WT', data = cars_data).fit()\n",
    "print('R-square                           : ',round(model_3.rsquared,4))\n",
    "print('Adjusted R-square                  : ',round(model_3.rsquared_adj,4))\n",
    "print('Akaike information criterion (AIC) : ',round(model_3.aic,4))\n",
    "print('Bayesian information criterion(BIC): ',round(model_3.bic,4))"
   ]
  },
  {
   "cell_type": "code",
   "execution_count": 39,
   "id": "62b8bd26",
   "metadata": {},
   "outputs": [
    {
     "name": "stdout",
     "output_type": "stream",
     "text": [
      "R-square                           :  0.7704\n",
      "Adjusted R-square                  :  0.7614\n",
      "Akaike information criterion (AIC) :  475.9875\n",
      "Bayesian information criterion(BIC):  485.5653\n"
     ]
    }
   ],
   "source": [
    "model_4 = smf.ols(formula = 'MPG~HP+SP+VOL', data = cars_data).fit()\n",
    "print('R-square                           : ',round(model_4.rsquared,4))\n",
    "print('Adjusted R-square                  : ',round(model_4.rsquared_adj,4))\n",
    "print('Akaike information criterion (AIC) : ',round(model_4.aic,4))\n",
    "print('Bayesian information criterion(BIC): ',round(model_4.bic,4))"
   ]
  },
  {
   "cell_type": "code",
   "execution_count": 40,
   "id": "0075e8b8",
   "metadata": {},
   "outputs": [
    {
     "name": "stdout",
     "output_type": "stream",
     "text": [
      "R-square                           :  0.7705\n",
      "Adjusted R-square                  :  0.7585\n",
      "Akaike information criterion (AIC) :  477.9279\n",
      "Bayesian information criterion(BIC):  489.9002\n"
     ]
    }
   ],
   "source": [
    "model_5 = smf.ols(formula = 'MPG~HP+SP+VOL+WT', data = cars_data).fit()\n",
    "print('R-square                           : ',round(model_5.rsquared,4))\n",
    "print('Adjusted R-square                  : ',round(model_5.rsquared_adj,4))\n",
    "print('Akaike information criterion (AIC) : ',round(model_5.aic,4))\n",
    "print('Bayesian information criterion(BIC): ',round(model_5.bic,4))"
   ]
  },
  {
   "cell_type": "markdown",
   "id": "35ec4cab",
   "metadata": {},
   "source": [
    "### Model_4 is the BEST MODEL."
   ]
  },
  {
   "cell_type": "markdown",
   "id": "f43d77ae",
   "metadata": {},
   "source": [
    "## Model Building using sklearn library"
   ]
  },
  {
   "cell_type": "markdown",
   "id": "4caf9e48",
   "metadata": {},
   "source": [
    "### 2 Steps approach:\n",
    "1. Separate your x and y.\n",
    "2. Model Validation Techniques:\n",
    "    * Train-Test Split\n",
    "    * K-Fold CV\n",
    "    * LOOCV"
   ]
  },
  {
   "cell_type": "code",
   "execution_count": 43,
   "id": "9dba7b2c",
   "metadata": {},
   "outputs": [],
   "source": [
    "X = cars_data.drop(['MPG'],axis = 1)\n",
    "y = cars_data[['MPG']]"
   ]
  },
  {
   "cell_type": "code",
   "execution_count": 44,
   "id": "ab851e4b",
   "metadata": {},
   "outputs": [
    {
     "data": {
      "text/plain": [
       "((81, 4), (81, 1))"
      ]
     },
     "execution_count": 44,
     "metadata": {},
     "output_type": "execute_result"
    }
   ],
   "source": [
    "X.shape,y.shape"
   ]
  },
  {
   "cell_type": "code",
   "execution_count": 49,
   "id": "6e575853",
   "metadata": {},
   "outputs": [],
   "source": [
    "from sklearn.model_selection import train_test_split\n",
    "X_train,X_test,y_train,y_test = train_test_split(X,y,test_size=0.20,shuffle=True,random_state=None,)"
   ]
  },
  {
   "cell_type": "code",
   "execution_count": 50,
   "id": "8e3c0bfe",
   "metadata": {},
   "outputs": [
    {
     "data": {
      "text/plain": [
       "((64, 4), (64, 1))"
      ]
     },
     "execution_count": 50,
     "metadata": {},
     "output_type": "execute_result"
    }
   ],
   "source": [
    "X_train.shape,y_train.shape #Training data"
   ]
  },
  {
   "cell_type": "code",
   "execution_count": 52,
   "id": "449f5d43",
   "metadata": {},
   "outputs": [
    {
     "data": {
      "text/html": [
       "<div>\n",
       "<style scoped>\n",
       "    .dataframe tbody tr th:only-of-type {\n",
       "        vertical-align: middle;\n",
       "    }\n",
       "\n",
       "    .dataframe tbody tr th {\n",
       "        vertical-align: top;\n",
       "    }\n",
       "\n",
       "    .dataframe thead th {\n",
       "        text-align: right;\n",
       "    }\n",
       "</style>\n",
       "<table border=\"1\" class=\"dataframe\">\n",
       "  <thead>\n",
       "    <tr style=\"text-align: right;\">\n",
       "      <th></th>\n",
       "      <th>HP</th>\n",
       "      <th>VOL</th>\n",
       "      <th>SP</th>\n",
       "      <th>WT</th>\n",
       "    </tr>\n",
       "  </thead>\n",
       "  <tbody>\n",
       "    <tr>\n",
       "      <th>51</th>\n",
       "      <td>115</td>\n",
       "      <td>101</td>\n",
       "      <td>118.288996</td>\n",
       "      <td>33.436711</td>\n",
       "    </tr>\n",
       "    <tr>\n",
       "      <th>68</th>\n",
       "      <td>165</td>\n",
       "      <td>123</td>\n",
       "      <td>133.312342</td>\n",
       "      <td>40.472042</td>\n",
       "    </tr>\n",
       "    <tr>\n",
       "      <th>67</th>\n",
       "      <td>165</td>\n",
       "      <td>127</td>\n",
       "      <td>133.680223</td>\n",
       "      <td>41.573975</td>\n",
       "    </tr>\n",
       "    <tr>\n",
       "      <th>1</th>\n",
       "      <td>55</td>\n",
       "      <td>92</td>\n",
       "      <td>105.461264</td>\n",
       "      <td>30.466833</td>\n",
       "    </tr>\n",
       "    <tr>\n",
       "      <th>62</th>\n",
       "      <td>140</td>\n",
       "      <td>131</td>\n",
       "      <td>126.048103</td>\n",
       "      <td>43.390988</td>\n",
       "    </tr>\n",
       "    <tr>\n",
       "      <th>...</th>\n",
       "      <td>...</td>\n",
       "      <td>...</td>\n",
       "      <td>...</td>\n",
       "      <td>...</td>\n",
       "    </tr>\n",
       "    <tr>\n",
       "      <th>57</th>\n",
       "      <td>115</td>\n",
       "      <td>101</td>\n",
       "      <td>118.288996</td>\n",
       "      <td>32.734518</td>\n",
       "    </tr>\n",
       "    <tr>\n",
       "      <th>69</th>\n",
       "      <td>245</td>\n",
       "      <td>112</td>\n",
       "      <td>158.300669</td>\n",
       "      <td>37.141733</td>\n",
       "    </tr>\n",
       "    <tr>\n",
       "      <th>72</th>\n",
       "      <td>162</td>\n",
       "      <td>132</td>\n",
       "      <td>133.140074</td>\n",
       "      <td>43.353123</td>\n",
       "    </tr>\n",
       "    <tr>\n",
       "      <th>26</th>\n",
       "      <td>92</td>\n",
       "      <td>117</td>\n",
       "      <td>120.760520</td>\n",
       "      <td>38.062823</td>\n",
       "    </tr>\n",
       "    <tr>\n",
       "      <th>27</th>\n",
       "      <td>92</td>\n",
       "      <td>99</td>\n",
       "      <td>119.105055</td>\n",
       "      <td>32.835069</td>\n",
       "    </tr>\n",
       "  </tbody>\n",
       "</table>\n",
       "<p>64 rows × 4 columns</p>\n",
       "</div>"
      ],
      "text/plain": [
       "     HP  VOL          SP         WT\n",
       "51  115  101  118.288996  33.436711\n",
       "68  165  123  133.312342  40.472042\n",
       "67  165  127  133.680223  41.573975\n",
       "1    55   92  105.461264  30.466833\n",
       "62  140  131  126.048103  43.390988\n",
       "..  ...  ...         ...        ...\n",
       "57  115  101  118.288996  32.734518\n",
       "69  245  112  158.300669  37.141733\n",
       "72  162  132  133.140074  43.353123\n",
       "26   92  117  120.760520  38.062823\n",
       "27   92   99  119.105055  32.835069\n",
       "\n",
       "[64 rows x 4 columns]"
      ]
     },
     "execution_count": 52,
     "metadata": {},
     "output_type": "execute_result"
    }
   ],
   "source": [
    "X_train"
   ]
  },
  {
   "cell_type": "code",
   "execution_count": 53,
   "id": "5f7402df",
   "metadata": {},
   "outputs": [
    {
     "data": {
      "text/html": [
       "<div>\n",
       "<style scoped>\n",
       "    .dataframe tbody tr th:only-of-type {\n",
       "        vertical-align: middle;\n",
       "    }\n",
       "\n",
       "    .dataframe tbody tr th {\n",
       "        vertical-align: top;\n",
       "    }\n",
       "\n",
       "    .dataframe thead th {\n",
       "        text-align: right;\n",
       "    }\n",
       "</style>\n",
       "<table border=\"1\" class=\"dataframe\">\n",
       "  <thead>\n",
       "    <tr style=\"text-align: right;\">\n",
       "      <th></th>\n",
       "      <th>MPG</th>\n",
       "    </tr>\n",
       "  </thead>\n",
       "  <tbody>\n",
       "    <tr>\n",
       "      <th>51</th>\n",
       "      <td>29.629936</td>\n",
       "    </tr>\n",
       "    <tr>\n",
       "      <th>68</th>\n",
       "      <td>23.103172</td>\n",
       "    </tr>\n",
       "    <tr>\n",
       "      <th>67</th>\n",
       "      <td>23.103172</td>\n",
       "    </tr>\n",
       "    <tr>\n",
       "      <th>1</th>\n",
       "      <td>50.013401</td>\n",
       "    </tr>\n",
       "    <tr>\n",
       "      <th>62</th>\n",
       "      <td>23.515917</td>\n",
       "    </tr>\n",
       "    <tr>\n",
       "      <th>...</th>\n",
       "      <td>...</td>\n",
       "    </tr>\n",
       "    <tr>\n",
       "      <th>57</th>\n",
       "      <td>29.629936</td>\n",
       "    </tr>\n",
       "    <tr>\n",
       "      <th>69</th>\n",
       "      <td>21.273708</td>\n",
       "    </tr>\n",
       "    <tr>\n",
       "      <th>72</th>\n",
       "      <td>23.203569</td>\n",
       "    </tr>\n",
       "    <tr>\n",
       "      <th>26</th>\n",
       "      <td>38.411003</td>\n",
       "    </tr>\n",
       "    <tr>\n",
       "      <th>27</th>\n",
       "      <td>38.411003</td>\n",
       "    </tr>\n",
       "  </tbody>\n",
       "</table>\n",
       "<p>64 rows × 1 columns</p>\n",
       "</div>"
      ],
      "text/plain": [
       "          MPG\n",
       "51  29.629936\n",
       "68  23.103172\n",
       "67  23.103172\n",
       "1   50.013401\n",
       "62  23.515917\n",
       "..        ...\n",
       "57  29.629936\n",
       "69  21.273708\n",
       "72  23.203569\n",
       "26  38.411003\n",
       "27  38.411003\n",
       "\n",
       "[64 rows x 1 columns]"
      ]
     },
     "execution_count": 53,
     "metadata": {},
     "output_type": "execute_result"
    }
   ],
   "source": [
    "y_train"
   ]
  },
  {
   "cell_type": "code",
   "execution_count": 51,
   "id": "fca5c5ee",
   "metadata": {},
   "outputs": [
    {
     "data": {
      "text/plain": [
       "((17, 4), (17, 1))"
      ]
     },
     "execution_count": 51,
     "metadata": {},
     "output_type": "execute_result"
    }
   ],
   "source": [
    "X_test.shape,y_test.shape"
   ]
  },
  {
   "cell_type": "markdown",
   "id": "6c2c5ba0",
   "metadata": {},
   "source": [
    "### Model Training"
   ]
  },
  {
   "cell_type": "code",
   "execution_count": 54,
   "id": "5b1c8c5a",
   "metadata": {},
   "outputs": [
    {
     "data": {
      "text/plain": [
       "LinearRegression()"
      ]
     },
     "execution_count": 54,
     "metadata": {},
     "output_type": "execute_result"
    }
   ],
   "source": [
    "from sklearn.linear_model import LinearRegression\n",
    "linear_model = LinearRegression()\n",
    "linear_model.fit(X_train,y_train)"
   ]
  },
  {
   "cell_type": "markdown",
   "id": "6264a6e2",
   "metadata": {},
   "source": [
    "### Model Testing || Model Evaluation"
   ]
  },
  {
   "cell_type": "markdown",
   "id": "4f1c947b",
   "metadata": {},
   "source": [
    "#### Calculate the Error for the Training data "
   ]
  },
  {
   "cell_type": "code",
   "execution_count": 56,
   "id": "2bf44779",
   "metadata": {},
   "outputs": [],
   "source": [
    "y_pred_train = linear_model.predict(X_train)"
   ]
  },
  {
   "cell_type": "code",
   "execution_count": 67,
   "id": "90249fa1",
   "metadata": {},
   "outputs": [],
   "source": [
    "from sklearn.metrics import mean_absolute_error,mean_squared_error"
   ]
  },
  {
   "cell_type": "code",
   "execution_count": 60,
   "id": "fae388a6",
   "metadata": {},
   "outputs": [
    {
     "data": {
      "text/plain": [
       "16.0581714671411"
      ]
     },
     "execution_count": 60,
     "metadata": {},
     "output_type": "execute_result"
    }
   ],
   "source": [
    "mean_squared_error(y_train,y_pred_train)"
   ]
  },
  {
   "cell_type": "code",
   "execution_count": 64,
   "id": "cb7f1399",
   "metadata": {},
   "outputs": [
    {
     "data": {
      "text/plain": [
       "3.0262427973231114"
      ]
     },
     "execution_count": 64,
     "metadata": {},
     "output_type": "execute_result"
    }
   ],
   "source": [
    "mean_absolute_error(y_train,y_pred_train)"
   ]
  },
  {
   "cell_type": "markdown",
   "id": "a1c571da",
   "metadata": {},
   "source": [
    "#### Calculate the Error for the Test data "
   ]
  },
  {
   "cell_type": "code",
   "execution_count": 58,
   "id": "7faff5c5",
   "metadata": {},
   "outputs": [],
   "source": [
    "y_pred_test = linear_model.predict(X_test)"
   ]
  },
  {
   "cell_type": "code",
   "execution_count": 61,
   "id": "430914ca",
   "metadata": {},
   "outputs": [
    {
     "data": {
      "text/plain": [
       "33.52057820491798"
      ]
     },
     "execution_count": 61,
     "metadata": {},
     "output_type": "execute_result"
    }
   ],
   "source": [
    "mean_squared_error(y_test,y_pred_test)"
   ]
  },
  {
   "cell_type": "code",
   "execution_count": 66,
   "id": "35a9fbaf",
   "metadata": {},
   "outputs": [
    {
     "data": {
      "text/plain": [
       "3.6451913544587886"
      ]
     },
     "execution_count": 66,
     "metadata": {},
     "output_type": "execute_result"
    }
   ],
   "source": [
    "mean_absolute_error(y_test,y_pred_test)"
   ]
  },
  {
   "cell_type": "markdown",
   "id": "546b9a8c",
   "metadata": {},
   "source": [
    "### ========================================================================================="
   ]
  },
  {
   "cell_type": "markdown",
   "id": "427aa1d6",
   "metadata": {},
   "source": [
    "# Model Optimzation Techniques\n",
    "\n",
    "## TAKEAWAY:\n",
    "\n",
    "Here wrt to few datapoints, it is evident that most of the input features are not showing direct linear relationship with output varible. So we have to do some transformations to make to linear.\n",
    "\n",
    "#### Data transformation techniques if the data is CONTINUOUS:\n",
    "\n",
    "* Log Transformation\n",
    "* Square Root Transformation\n",
    "* Cube Root Transformation\n",
    "* Reciprocal Transformation\n",
    "* Boxcox Transformation\n",
    "* Standard Scaler\n",
    "* Min Max Scaler\n",
    "* Robust Scaler\n",
    "\n",
    "#### Data transformation techniques if the data is DISCRETE:\n",
    "\n",
    "* Label Encoding\n",
    "* One Hot Encoding"
   ]
  },
  {
   "cell_type": "markdown",
   "id": "fdbf7abd",
   "metadata": {},
   "source": [
    "### Applying Log Transformation"
   ]
  },
  {
   "cell_type": "code",
   "execution_count": 74,
   "id": "abb1291a",
   "metadata": {},
   "outputs": [
    {
     "data": {
      "text/html": [
       "<div>\n",
       "<style scoped>\n",
       "    .dataframe tbody tr th:only-of-type {\n",
       "        vertical-align: middle;\n",
       "    }\n",
       "\n",
       "    .dataframe tbody tr th {\n",
       "        vertical-align: top;\n",
       "    }\n",
       "\n",
       "    .dataframe thead th {\n",
       "        text-align: right;\n",
       "    }\n",
       "</style>\n",
       "<table border=\"1\" class=\"dataframe\">\n",
       "  <thead>\n",
       "    <tr style=\"text-align: right;\">\n",
       "      <th></th>\n",
       "      <th>HP</th>\n",
       "      <th>MPG</th>\n",
       "      <th>VOL</th>\n",
       "      <th>SP</th>\n",
       "      <th>WT</th>\n",
       "    </tr>\n",
       "  </thead>\n",
       "  <tbody>\n",
       "    <tr>\n",
       "      <th>0</th>\n",
       "      <td>49</td>\n",
       "      <td>53.700681</td>\n",
       "      <td>89</td>\n",
       "      <td>104.185353</td>\n",
       "      <td>28.762059</td>\n",
       "    </tr>\n",
       "    <tr>\n",
       "      <th>1</th>\n",
       "      <td>55</td>\n",
       "      <td>50.013401</td>\n",
       "      <td>92</td>\n",
       "      <td>105.461264</td>\n",
       "      <td>30.466833</td>\n",
       "    </tr>\n",
       "    <tr>\n",
       "      <th>2</th>\n",
       "      <td>55</td>\n",
       "      <td>50.013401</td>\n",
       "      <td>92</td>\n",
       "      <td>105.461264</td>\n",
       "      <td>30.193597</td>\n",
       "    </tr>\n",
       "    <tr>\n",
       "      <th>3</th>\n",
       "      <td>70</td>\n",
       "      <td>45.696322</td>\n",
       "      <td>92</td>\n",
       "      <td>113.461264</td>\n",
       "      <td>30.632114</td>\n",
       "    </tr>\n",
       "    <tr>\n",
       "      <th>4</th>\n",
       "      <td>53</td>\n",
       "      <td>50.504232</td>\n",
       "      <td>92</td>\n",
       "      <td>104.461264</td>\n",
       "      <td>29.889149</td>\n",
       "    </tr>\n",
       "    <tr>\n",
       "      <th>...</th>\n",
       "      <td>...</td>\n",
       "      <td>...</td>\n",
       "      <td>...</td>\n",
       "      <td>...</td>\n",
       "      <td>...</td>\n",
       "    </tr>\n",
       "    <tr>\n",
       "      <th>76</th>\n",
       "      <td>322</td>\n",
       "      <td>36.900000</td>\n",
       "      <td>50</td>\n",
       "      <td>169.598513</td>\n",
       "      <td>16.132947</td>\n",
       "    </tr>\n",
       "    <tr>\n",
       "      <th>77</th>\n",
       "      <td>238</td>\n",
       "      <td>19.197888</td>\n",
       "      <td>115</td>\n",
       "      <td>150.576579</td>\n",
       "      <td>37.923113</td>\n",
       "    </tr>\n",
       "    <tr>\n",
       "      <th>78</th>\n",
       "      <td>263</td>\n",
       "      <td>34.000000</td>\n",
       "      <td>50</td>\n",
       "      <td>151.598513</td>\n",
       "      <td>15.769625</td>\n",
       "    </tr>\n",
       "    <tr>\n",
       "      <th>79</th>\n",
       "      <td>295</td>\n",
       "      <td>19.833733</td>\n",
       "      <td>119</td>\n",
       "      <td>167.944460</td>\n",
       "      <td>39.423099</td>\n",
       "    </tr>\n",
       "    <tr>\n",
       "      <th>80</th>\n",
       "      <td>236</td>\n",
       "      <td>12.101263</td>\n",
       "      <td>107</td>\n",
       "      <td>139.840817</td>\n",
       "      <td>34.948615</td>\n",
       "    </tr>\n",
       "  </tbody>\n",
       "</table>\n",
       "<p>81 rows × 5 columns</p>\n",
       "</div>"
      ],
      "text/plain": [
       "     HP        MPG  VOL          SP         WT\n",
       "0    49  53.700681   89  104.185353  28.762059\n",
       "1    55  50.013401   92  105.461264  30.466833\n",
       "2    55  50.013401   92  105.461264  30.193597\n",
       "3    70  45.696322   92  113.461264  30.632114\n",
       "4    53  50.504232   92  104.461264  29.889149\n",
       "..  ...        ...  ...         ...        ...\n",
       "76  322  36.900000   50  169.598513  16.132947\n",
       "77  238  19.197888  115  150.576579  37.923113\n",
       "78  263  34.000000   50  151.598513  15.769625\n",
       "79  295  19.833733  119  167.944460  39.423099\n",
       "80  236  12.101263  107  139.840817  34.948615\n",
       "\n",
       "[81 rows x 5 columns]"
      ]
     },
     "execution_count": 74,
     "metadata": {},
     "output_type": "execute_result"
    }
   ],
   "source": [
    "X_inputs = cars_data.copy()\n",
    "X_inputs"
   ]
  },
  {
   "cell_type": "code",
   "execution_count": 70,
   "id": "9a3e926f",
   "metadata": {},
   "outputs": [],
   "source": [
    "import numpy as np"
   ]
  },
  {
   "cell_type": "code",
   "execution_count": 75,
   "id": "25c128b3",
   "metadata": {},
   "outputs": [
    {
     "data": {
      "text/html": [
       "<div>\n",
       "<style scoped>\n",
       "    .dataframe tbody tr th:only-of-type {\n",
       "        vertical-align: middle;\n",
       "    }\n",
       "\n",
       "    .dataframe tbody tr th {\n",
       "        vertical-align: top;\n",
       "    }\n",
       "\n",
       "    .dataframe thead th {\n",
       "        text-align: right;\n",
       "    }\n",
       "</style>\n",
       "<table border=\"1\" class=\"dataframe\">\n",
       "  <thead>\n",
       "    <tr style=\"text-align: right;\">\n",
       "      <th></th>\n",
       "      <th>HP</th>\n",
       "      <th>MPG</th>\n",
       "      <th>VOL</th>\n",
       "      <th>SP</th>\n",
       "      <th>WT</th>\n",
       "      <th>log_HP</th>\n",
       "      <th>log_SP</th>\n",
       "      <th>log_VOL</th>\n",
       "      <th>log_WT</th>\n",
       "    </tr>\n",
       "  </thead>\n",
       "  <tbody>\n",
       "    <tr>\n",
       "      <th>0</th>\n",
       "      <td>49</td>\n",
       "      <td>53.700681</td>\n",
       "      <td>89</td>\n",
       "      <td>104.185353</td>\n",
       "      <td>28.762059</td>\n",
       "      <td>3.891820</td>\n",
       "      <td>4.646172</td>\n",
       "      <td>4.488636</td>\n",
       "      <td>3.359057</td>\n",
       "    </tr>\n",
       "    <tr>\n",
       "      <th>1</th>\n",
       "      <td>55</td>\n",
       "      <td>50.013401</td>\n",
       "      <td>92</td>\n",
       "      <td>105.461264</td>\n",
       "      <td>30.466833</td>\n",
       "      <td>4.007333</td>\n",
       "      <td>4.658344</td>\n",
       "      <td>4.521789</td>\n",
       "      <td>3.416639</td>\n",
       "    </tr>\n",
       "    <tr>\n",
       "      <th>2</th>\n",
       "      <td>55</td>\n",
       "      <td>50.013401</td>\n",
       "      <td>92</td>\n",
       "      <td>105.461264</td>\n",
       "      <td>30.193597</td>\n",
       "      <td>4.007333</td>\n",
       "      <td>4.658344</td>\n",
       "      <td>4.521789</td>\n",
       "      <td>3.407630</td>\n",
       "    </tr>\n",
       "    <tr>\n",
       "      <th>3</th>\n",
       "      <td>70</td>\n",
       "      <td>45.696322</td>\n",
       "      <td>92</td>\n",
       "      <td>113.461264</td>\n",
       "      <td>30.632114</td>\n",
       "      <td>4.248495</td>\n",
       "      <td>4.731461</td>\n",
       "      <td>4.521789</td>\n",
       "      <td>3.422049</td>\n",
       "    </tr>\n",
       "    <tr>\n",
       "      <th>4</th>\n",
       "      <td>53</td>\n",
       "      <td>50.504232</td>\n",
       "      <td>92</td>\n",
       "      <td>104.461264</td>\n",
       "      <td>29.889149</td>\n",
       "      <td>3.970292</td>\n",
       "      <td>4.648816</td>\n",
       "      <td>4.521789</td>\n",
       "      <td>3.397495</td>\n",
       "    </tr>\n",
       "    <tr>\n",
       "      <th>...</th>\n",
       "      <td>...</td>\n",
       "      <td>...</td>\n",
       "      <td>...</td>\n",
       "      <td>...</td>\n",
       "      <td>...</td>\n",
       "      <td>...</td>\n",
       "      <td>...</td>\n",
       "      <td>...</td>\n",
       "      <td>...</td>\n",
       "    </tr>\n",
       "    <tr>\n",
       "      <th>76</th>\n",
       "      <td>322</td>\n",
       "      <td>36.900000</td>\n",
       "      <td>50</td>\n",
       "      <td>169.598513</td>\n",
       "      <td>16.132947</td>\n",
       "      <td>5.774552</td>\n",
       "      <td>5.133434</td>\n",
       "      <td>3.912023</td>\n",
       "      <td>2.780864</td>\n",
       "    </tr>\n",
       "    <tr>\n",
       "      <th>77</th>\n",
       "      <td>238</td>\n",
       "      <td>19.197888</td>\n",
       "      <td>115</td>\n",
       "      <td>150.576579</td>\n",
       "      <td>37.923113</td>\n",
       "      <td>5.472271</td>\n",
       "      <td>5.014472</td>\n",
       "      <td>4.744932</td>\n",
       "      <td>3.635561</td>\n",
       "    </tr>\n",
       "    <tr>\n",
       "      <th>78</th>\n",
       "      <td>263</td>\n",
       "      <td>34.000000</td>\n",
       "      <td>50</td>\n",
       "      <td>151.598513</td>\n",
       "      <td>15.769625</td>\n",
       "      <td>5.572154</td>\n",
       "      <td>5.021236</td>\n",
       "      <td>3.912023</td>\n",
       "      <td>2.758086</td>\n",
       "    </tr>\n",
       "    <tr>\n",
       "      <th>79</th>\n",
       "      <td>295</td>\n",
       "      <td>19.833733</td>\n",
       "      <td>119</td>\n",
       "      <td>167.944460</td>\n",
       "      <td>39.423099</td>\n",
       "      <td>5.686975</td>\n",
       "      <td>5.123633</td>\n",
       "      <td>4.779123</td>\n",
       "      <td>3.674352</td>\n",
       "    </tr>\n",
       "    <tr>\n",
       "      <th>80</th>\n",
       "      <td>236</td>\n",
       "      <td>12.101263</td>\n",
       "      <td>107</td>\n",
       "      <td>139.840817</td>\n",
       "      <td>34.948615</td>\n",
       "      <td>5.463832</td>\n",
       "      <td>4.940505</td>\n",
       "      <td>4.672829</td>\n",
       "      <td>3.553879</td>\n",
       "    </tr>\n",
       "  </tbody>\n",
       "</table>\n",
       "<p>81 rows × 9 columns</p>\n",
       "</div>"
      ],
      "text/plain": [
       "     HP        MPG  VOL          SP         WT    log_HP    log_SP   log_VOL  \\\n",
       "0    49  53.700681   89  104.185353  28.762059  3.891820  4.646172  4.488636   \n",
       "1    55  50.013401   92  105.461264  30.466833  4.007333  4.658344  4.521789   \n",
       "2    55  50.013401   92  105.461264  30.193597  4.007333  4.658344  4.521789   \n",
       "3    70  45.696322   92  113.461264  30.632114  4.248495  4.731461  4.521789   \n",
       "4    53  50.504232   92  104.461264  29.889149  3.970292  4.648816  4.521789   \n",
       "..  ...        ...  ...         ...        ...       ...       ...       ...   \n",
       "76  322  36.900000   50  169.598513  16.132947  5.774552  5.133434  3.912023   \n",
       "77  238  19.197888  115  150.576579  37.923113  5.472271  5.014472  4.744932   \n",
       "78  263  34.000000   50  151.598513  15.769625  5.572154  5.021236  3.912023   \n",
       "79  295  19.833733  119  167.944460  39.423099  5.686975  5.123633  4.779123   \n",
       "80  236  12.101263  107  139.840817  34.948615  5.463832  4.940505  4.672829   \n",
       "\n",
       "      log_WT  \n",
       "0   3.359057  \n",
       "1   3.416639  \n",
       "2   3.407630  \n",
       "3   3.422049  \n",
       "4   3.397495  \n",
       "..       ...  \n",
       "76  2.780864  \n",
       "77  3.635561  \n",
       "78  2.758086  \n",
       "79  3.674352  \n",
       "80  3.553879  \n",
       "\n",
       "[81 rows x 9 columns]"
      ]
     },
     "execution_count": 75,
     "metadata": {},
     "output_type": "execute_result"
    }
   ],
   "source": [
    "X_inputs['log_HP']  = np.log(X_inputs['HP'])\n",
    "X_inputs['log_SP']  = np.log(X_inputs['SP'])\n",
    "X_inputs['log_VOL'] = np.log(X_inputs['VOL'])\n",
    "X_inputs['log_WT']  = np.log(X_inputs['WT'])\n",
    "X_inputs"
   ]
  },
  {
   "cell_type": "code",
   "execution_count": 77,
   "id": "eec8eecc",
   "metadata": {},
   "outputs": [
    {
     "data": {
      "image/png": "[encoded data removed]",
      "text/plain": [
       "<Figure size 360x360 with 1 Axes>"
      ]
     },
     "metadata": {
      "needs_background": "light"
     },
     "output_type": "display_data"
    },
    {
     "data": {
      "image/png": "[encoded data removed]",
      "text/plain": [
       "<Figure size 360x360 with 1 Axes>"
      ]
     },
     "metadata": {
      "needs_background": "light"
     },
     "output_type": "display_data"
    }
   ],
   "source": [
    "sns.lmplot(x='HP',y='MPG',data=X_inputs)\n",
    "plt.title('HP Vs MPG')\n",
    "\n",
    "sns.lmplot(x='log_HP',y='MPG',data=X_inputs)\n",
    "plt.title('log_HP Vs MPG')\n",
    "plt.show()"
   ]
  },
  {
   "cell_type": "code",
   "execution_count": 78,
   "id": "b09bcc8f",
   "metadata": {},
   "outputs": [
    {
     "data": {
      "image/png": "[encoded data removed]",
      "text/plain": [
       "<Figure size 360x360 with 1 Axes>"
      ]
     },
     "metadata": {
      "needs_background": "light"
     },
     "output_type": "display_data"
    },
    {
     "data": {
      "image/png": "[encoded data removed]",
      "text/plain": [
       "<Figure size 360x360 with 1 Axes>"
      ]
     },
     "metadata": {
      "needs_background": "light"
     },
     "output_type": "display_data"
    }
   ],
   "source": [
    "sns.lmplot(x='VOL',y='MPG',data=X_inputs)\n",
    "plt.title('VOL Vs MPG')\n",
    "\n",
    "sns.lmplot(x='log_VOL',y='MPG',data=X_inputs)\n",
    "plt.title('log_VOL Vs MPG')\n",
    "plt.show()"
   ]
  },
  {
   "cell_type": "code",
   "execution_count": 79,
   "id": "dc4438ad",
   "metadata": {},
   "outputs": [
    {
     "data": {
      "image/png": "[encoded data removed]",
      "text/plain": [
       "<Figure size 360x360 with 1 Axes>"
      ]
     },
     "metadata": {
      "needs_background": "light"
     },
     "output_type": "display_data"
    },
    {
     "data": {
      "image/png": "[encoded data removed]",
      "text/plain": [
       "<Figure size 360x360 with 1 Axes>"
      ]
     },
     "metadata": {
      "needs_background": "light"
     },
     "output_type": "display_data"
    }
   ],
   "source": [
    "sns.lmplot(x='SP',y='MPG',data=X_inputs)\n",
    "plt.title('SP Vs MPG')\n",
    "\n",
    "sns.lmplot(x='log_SP',y='MPG',data=X_inputs)\n",
    "plt.title('log_SP Vs MPG')\n",
    "plt.show()"
   ]
  },
  {
   "cell_type": "code",
   "execution_count": 80,
   "id": "6ad677c7",
   "metadata": {},
   "outputs": [
    {
     "data": {
      "image/png": "[encoded data removed]",
      "text/plain": [
       "<Figure size 360x360 with 1 Axes>"
      ]
     },
     "metadata": {
      "needs_background": "light"
     },
     "output_type": "display_data"
    },
    {
     "data": {
      "image/png": "[encoded data removed]",
      "text/plain": [
       "<Figure size 360x360 with 1 Axes>"
      ]
     },
     "metadata": {
      "needs_background": "light"
     },
     "output_type": "display_data"
    }
   ],
   "source": [
    "sns.lmplot(x='WT',y='MPG',data=X_inputs)\n",
    "plt.title('WT Vs MPG')\n",
    "\n",
    "sns.lmplot(x='log_WT',y='MPG',data=X_inputs)\n",
    "plt.title('log_WT Vs MPG')\n",
    "plt.show()"
   ]
  },
  {
   "cell_type": "markdown",
   "id": "54472126",
   "metadata": {},
   "source": [
    "### Model Building"
   ]
  },
  {
   "cell_type": "code",
   "execution_count": 83,
   "id": "dd143cd1",
   "metadata": {},
   "outputs": [],
   "source": [
    "X = X_inputs[['log_HP','log_SP','log_VOL','log_WT']]\n",
    "y = X_inputs[['MPG']]"
   ]
  },
  {
   "cell_type": "code",
   "execution_count": 84,
   "id": "12d0398b",
   "metadata": {},
   "outputs": [
    {
     "data": {
      "text/plain": [
       "((81, 4), (81, 1))"
      ]
     },
     "execution_count": 84,
     "metadata": {},
     "output_type": "execute_result"
    }
   ],
   "source": [
    "X.shape,y.shape"
   ]
  },
  {
   "cell_type": "code",
   "execution_count": 85,
   "id": "90dedd53",
   "metadata": {},
   "outputs": [],
   "source": [
    "from sklearn.model_selection import train_test_split\n",
    "X_train,X_test,y_train,y_test = train_test_split(X,y,test_size=0.20,shuffle=True,random_state=None,)"
   ]
  },
  {
   "cell_type": "code",
   "execution_count": 86,
   "id": "38fd08b3",
   "metadata": {},
   "outputs": [
    {
     "data": {
      "text/plain": [
       "((64, 4), (64, 1))"
      ]
     },
     "execution_count": 86,
     "metadata": {},
     "output_type": "execute_result"
    }
   ],
   "source": [
    "X_train.shape,y_train.shape #Training data"
   ]
  },
  {
   "cell_type": "code",
   "execution_count": 87,
   "id": "33c295af",
   "metadata": {},
   "outputs": [
    {
     "data": {
      "text/html": [
       "<div>\n",
       "<style scoped>\n",
       "    .dataframe tbody tr th:only-of-type {\n",
       "        vertical-align: middle;\n",
       "    }\n",
       "\n",
       "    .dataframe tbody tr th {\n",
       "        vertical-align: top;\n",
       "    }\n",
       "\n",
       "    .dataframe thead th {\n",
       "        text-align: right;\n",
       "    }\n",
       "</style>\n",
       "<table border=\"1\" class=\"dataframe\">\n",
       "  <thead>\n",
       "    <tr style=\"text-align: right;\">\n",
       "      <th></th>\n",
       "      <th>log_HP</th>\n",
       "      <th>log_SP</th>\n",
       "      <th>log_VOL</th>\n",
       "      <th>log_WT</th>\n",
       "    </tr>\n",
       "  </thead>\n",
       "  <tbody>\n",
       "    <tr>\n",
       "      <th>48</th>\n",
       "      <td>4.867534</td>\n",
       "      <td>4.851323</td>\n",
       "      <td>4.454347</td>\n",
       "      <td>3.334723</td>\n",
       "    </tr>\n",
       "    <tr>\n",
       "      <th>1</th>\n",
       "      <td>4.007333</td>\n",
       "      <td>4.658344</td>\n",
       "      <td>4.521789</td>\n",
       "      <td>3.416639</td>\n",
       "    </tr>\n",
       "    <tr>\n",
       "      <th>12</th>\n",
       "      <td>4.521789</td>\n",
       "      <td>4.804882</td>\n",
       "      <td>4.595120</td>\n",
       "      <td>3.490843</td>\n",
       "    </tr>\n",
       "    <tr>\n",
       "      <th>21</th>\n",
       "      <td>4.304065</td>\n",
       "      <td>4.708095</td>\n",
       "      <td>4.672829</td>\n",
       "      <td>3.552722</td>\n",
       "    </tr>\n",
       "    <tr>\n",
       "      <th>60</th>\n",
       "      <td>4.976734</td>\n",
       "      <td>4.869139</td>\n",
       "      <td>4.709530</td>\n",
       "      <td>3.607890</td>\n",
       "    </tr>\n",
       "    <tr>\n",
       "      <th>...</th>\n",
       "      <td>...</td>\n",
       "      <td>...</td>\n",
       "      <td>...</td>\n",
       "      <td>...</td>\n",
       "    </tr>\n",
       "    <tr>\n",
       "      <th>79</th>\n",
       "      <td>5.686975</td>\n",
       "      <td>5.123633</td>\n",
       "      <td>4.779123</td>\n",
       "      <td>3.674352</td>\n",
       "    </tr>\n",
       "    <tr>\n",
       "      <th>74</th>\n",
       "      <td>4.941642</td>\n",
       "      <td>4.802907</td>\n",
       "      <td>4.859812</td>\n",
       "      <td>3.752293</td>\n",
       "    </tr>\n",
       "    <tr>\n",
       "      <th>16</th>\n",
       "      <td>4.356709</td>\n",
       "      <td>4.739433</td>\n",
       "      <td>4.510860</td>\n",
       "      <td>3.385603</td>\n",
       "    </tr>\n",
       "    <tr>\n",
       "      <th>29</th>\n",
       "      <td>4.634729</td>\n",
       "      <td>4.802715</td>\n",
       "      <td>4.672829</td>\n",
       "      <td>3.570922</td>\n",
       "    </tr>\n",
       "    <tr>\n",
       "      <th>59</th>\n",
       "      <td>4.605170</td>\n",
       "      <td>4.749933</td>\n",
       "      <td>4.744932</td>\n",
       "      <td>3.628675</td>\n",
       "    </tr>\n",
       "  </tbody>\n",
       "</table>\n",
       "<p>64 rows × 4 columns</p>\n",
       "</div>"
      ],
      "text/plain": [
       "      log_HP    log_SP   log_VOL    log_WT\n",
       "48  4.867534  4.851323  4.454347  3.334723\n",
       "1   4.007333  4.658344  4.521789  3.416639\n",
       "12  4.521789  4.804882  4.595120  3.490843\n",
       "21  4.304065  4.708095  4.672829  3.552722\n",
       "60  4.976734  4.869139  4.709530  3.607890\n",
       "..       ...       ...       ...       ...\n",
       "79  5.686975  5.123633  4.779123  3.674352\n",
       "74  4.941642  4.802907  4.859812  3.752293\n",
       "16  4.356709  4.739433  4.510860  3.385603\n",
       "29  4.634729  4.802715  4.672829  3.570922\n",
       "59  4.605170  4.749933  4.744932  3.628675\n",
       "\n",
       "[64 rows x 4 columns]"
      ]
     },
     "execution_count": 87,
     "metadata": {},
     "output_type": "execute_result"
    }
   ],
   "source": [
    "X_train"
   ]
  },
  {
   "cell_type": "code",
   "execution_count": 88,
   "id": "4c884805",
   "metadata": {},
   "outputs": [
    {
     "data": {
      "text/html": [
       "<div>\n",
       "<style scoped>\n",
       "    .dataframe tbody tr th:only-of-type {\n",
       "        vertical-align: middle;\n",
       "    }\n",
       "\n",
       "    .dataframe tbody tr th {\n",
       "        vertical-align: top;\n",
       "    }\n",
       "\n",
       "    .dataframe thead th {\n",
       "        text-align: right;\n",
       "    }\n",
       "</style>\n",
       "<table border=\"1\" class=\"dataframe\">\n",
       "  <thead>\n",
       "    <tr style=\"text-align: right;\">\n",
       "      <th></th>\n",
       "      <th>MPG</th>\n",
       "    </tr>\n",
       "  </thead>\n",
       "  <tbody>\n",
       "    <tr>\n",
       "      <th>48</th>\n",
       "      <td>31.014131</td>\n",
       "    </tr>\n",
       "    <tr>\n",
       "      <th>1</th>\n",
       "      <td>50.013401</td>\n",
       "    </tr>\n",
       "    <tr>\n",
       "      <th>12</th>\n",
       "      <td>39.354094</td>\n",
       "    </tr>\n",
       "    <tr>\n",
       "      <th>21</th>\n",
       "      <td>42.828479</td>\n",
       "    </tr>\n",
       "    <tr>\n",
       "      <th>60</th>\n",
       "      <td>27.354265</td>\n",
       "    </tr>\n",
       "    <tr>\n",
       "      <th>...</th>\n",
       "      <td>...</td>\n",
       "    </tr>\n",
       "    <tr>\n",
       "      <th>79</th>\n",
       "      <td>19.833733</td>\n",
       "    </tr>\n",
       "    <tr>\n",
       "      <th>74</th>\n",
       "      <td>19.086341</td>\n",
       "    </tr>\n",
       "    <tr>\n",
       "      <th>16</th>\n",
       "      <td>42.789909</td>\n",
       "    </tr>\n",
       "    <tr>\n",
       "      <th>29</th>\n",
       "      <td>35.404192</td>\n",
       "    </tr>\n",
       "    <tr>\n",
       "      <th>59</th>\n",
       "      <td>28.860225</td>\n",
       "    </tr>\n",
       "  </tbody>\n",
       "</table>\n",
       "<p>64 rows × 1 columns</p>\n",
       "</div>"
      ],
      "text/plain": [
       "          MPG\n",
       "48  31.014131\n",
       "1   50.013401\n",
       "12  39.354094\n",
       "21  42.828479\n",
       "60  27.354265\n",
       "..        ...\n",
       "79  19.833733\n",
       "74  19.086341\n",
       "16  42.789909\n",
       "29  35.404192\n",
       "59  28.860225\n",
       "\n",
       "[64 rows x 1 columns]"
      ]
     },
     "execution_count": 88,
     "metadata": {},
     "output_type": "execute_result"
    }
   ],
   "source": [
    "y_train"
   ]
  },
  {
   "cell_type": "code",
   "execution_count": 89,
   "id": "bd740cbf",
   "metadata": {},
   "outputs": [
    {
     "data": {
      "text/plain": [
       "((17, 4), (17, 1))"
      ]
     },
     "execution_count": 89,
     "metadata": {},
     "output_type": "execute_result"
    }
   ],
   "source": [
    "X_test.shape,y_test.shape"
   ]
  },
  {
   "cell_type": "markdown",
   "id": "72259120",
   "metadata": {},
   "source": [
    "### Model Training"
   ]
  },
  {
   "cell_type": "code",
   "execution_count": 90,
   "id": "6eb5f5ee",
   "metadata": {},
   "outputs": [
    {
     "data": {
      "text/plain": [
       "LinearRegression()"
      ]
     },
     "execution_count": 90,
     "metadata": {},
     "output_type": "execute_result"
    }
   ],
   "source": [
    "from sklearn.linear_model import LinearRegression\n",
    "linear_model = LinearRegression()\n",
    "linear_model.fit(X_train,y_train)"
   ]
  },
  {
   "cell_type": "markdown",
   "id": "2b1d0261",
   "metadata": {},
   "source": [
    "### Model Testing || Model Evaluation"
   ]
  },
  {
   "cell_type": "markdown",
   "id": "28bf99f3",
   "metadata": {},
   "source": [
    "#### Calculate the Error for the Training data "
   ]
  },
  {
   "cell_type": "code",
   "execution_count": 91,
   "id": "a627397d",
   "metadata": {},
   "outputs": [],
   "source": [
    "y_pred_train = linear_model.predict(X_train)"
   ]
  },
  {
   "cell_type": "code",
   "execution_count": 92,
   "id": "773b2eeb",
   "metadata": {},
   "outputs": [
    {
     "data": {
      "text/plain": [
       "array([[33.64108894],\n",
       "       [48.28544689],\n",
       "       [40.45351183],\n",
       "       [40.19958102],\n",
       "       [27.04825641],\n",
       "       [43.84085011],\n",
       "       [34.03248358],\n",
       "       [31.86061336],\n",
       "       [36.06294264],\n",
       "       [20.43528086],\n",
       "       [53.33608946],\n",
       "       [35.40876038],\n",
       "       [29.60999462],\n",
       "       [37.03336204],\n",
       "       [34.211398  ],\n",
       "       [45.40140824],\n",
       "       [38.46523959],\n",
       "       [47.80695313],\n",
       "       [28.12301831],\n",
       "       [39.49143362],\n",
       "       [39.5956065 ],\n",
       "       [28.80014117],\n",
       "       [42.17171044],\n",
       "       [24.07349971],\n",
       "       [19.89328787],\n",
       "       [48.7521533 ],\n",
       "       [42.56887014],\n",
       "       [26.92843272],\n",
       "       [31.36859297],\n",
       "       [23.74078089],\n",
       "       [46.37796766],\n",
       "       [42.04907647],\n",
       "       [15.84612292],\n",
       "       [28.81897557],\n",
       "       [36.67973889],\n",
       "       [33.07797753],\n",
       "       [30.54771478],\n",
       "       [36.35347093],\n",
       "       [28.78527178],\n",
       "       [29.16526294],\n",
       "       [49.86631011],\n",
       "       [50.67400052],\n",
       "       [42.43489587],\n",
       "       [23.13721234],\n",
       "       [33.48224507],\n",
       "       [38.21209894],\n",
       "       [33.81746753],\n",
       "       [20.73569559],\n",
       "       [48.55541281],\n",
       "       [45.15350166],\n",
       "       [39.02374154],\n",
       "       [26.90264536],\n",
       "       [39.11059152],\n",
       "       [38.13155427],\n",
       "       [49.02762926],\n",
       "       [29.91851632],\n",
       "       [35.01315141],\n",
       "       [36.84289033],\n",
       "       [33.69751304],\n",
       "       [21.465325  ],\n",
       "       [21.06015514],\n",
       "       [43.1207276 ],\n",
       "       [34.84680193],\n",
       "       [31.19981941]])"
      ]
     },
     "execution_count": 92,
     "metadata": {},
     "output_type": "execute_result"
    }
   ],
   "source": [
    "y_pred_train"
   ]
  },
  {
   "cell_type": "code",
   "execution_count": 93,
   "id": "92da1e69",
   "metadata": {},
   "outputs": [],
   "source": [
    "from sklearn.metrics import mean_absolute_error,mean_squared_error"
   ]
  },
  {
   "cell_type": "code",
   "execution_count": 94,
   "id": "1b9699eb",
   "metadata": {},
   "outputs": [
    {
     "data": {
      "text/plain": [
       "6.070087614456249"
      ]
     },
     "execution_count": 94,
     "metadata": {},
     "output_type": "execute_result"
    }
   ],
   "source": [
    "mean_squared_error(y_train,y_pred_train)"
   ]
  },
  {
   "cell_type": "code",
   "execution_count": 95,
   "id": "92cc7705",
   "metadata": {},
   "outputs": [
    {
     "data": {
      "text/plain": [
       "1.6494472177198964"
      ]
     },
     "execution_count": 95,
     "metadata": {},
     "output_type": "execute_result"
    }
   ],
   "source": [
    "mean_absolute_error(y_train,y_pred_train)"
   ]
  },
  {
   "cell_type": "markdown",
   "id": "e296b0e9",
   "metadata": {},
   "source": [
    "#### Calculate the Error for the Test data "
   ]
  },
  {
   "cell_type": "code",
   "execution_count": 96,
   "id": "dfbc410a",
   "metadata": {},
   "outputs": [],
   "source": [
    "y_pred_test = linear_model.predict(X_test)"
   ]
  },
  {
   "cell_type": "code",
   "execution_count": 97,
   "id": "26a11c28",
   "metadata": {},
   "outputs": [
    {
     "data": {
      "text/plain": [
       "15.636969966730923"
      ]
     },
     "execution_count": 97,
     "metadata": {},
     "output_type": "execute_result"
    }
   ],
   "source": [
    "mean_squared_error(y_test,y_pred_test)"
   ]
  },
  {
   "cell_type": "code",
   "execution_count": 98,
   "id": "421c6113",
   "metadata": {},
   "outputs": [
    {
     "data": {
      "text/plain": [
       "1.9069117965464377"
      ]
     },
     "execution_count": 98,
     "metadata": {},
     "output_type": "execute_result"
    }
   ],
   "source": [
    "mean_absolute_error(y_test,y_pred_test)"
   ]
  },
  {
   "cell_type": "markdown",
   "id": "7a9f99a5",
   "metadata": {},
   "source": [
    "### Model Building using Statsmodel"
   ]
  },
  {
   "cell_type": "code",
   "execution_count": 99,
   "id": "4f80ccee",
   "metadata": {},
   "outputs": [
    {
     "name": "stdout",
     "output_type": "stream",
     "text": [
      "R-square                           :  0.7114\n",
      "Adjusted R-square                  :  0.7078\n",
      "Akaike information criterion (AIC) :  490.4986\n",
      "Bayesian information criterion(BIC):  495.2875\n"
     ]
    }
   ],
   "source": [
    "model_1 = smf.ols(formula = 'MPG~log_HP', data = X_inputs).fit()\n",
    "print('R-square                           : ',round(model_1.rsquared,4))\n",
    "print('Adjusted R-square                  : ',round(model_1.rsquared_adj,4))\n",
    "print('Akaike information criterion (AIC) : ',round(model_1.aic,4))\n",
    "print('Bayesian information criterion(BIC): ',round(model_1.bic,4))"
   ]
  },
  {
   "cell_type": "code",
   "execution_count": 100,
   "id": "aa74e8f6",
   "metadata": {},
   "outputs": [
    {
     "name": "stdout",
     "output_type": "stream",
     "text": [
      "R-square                           :  0.9116\n",
      "Adjusted R-square                  :  0.9081\n",
      "Akaike information criterion (AIC) :  398.6808\n",
      "Bayesian information criterion(BIC):  408.2586\n"
     ]
    }
   ],
   "source": [
    "model_3 = smf.ols(formula = 'MPG~log_HP+log_SP+log_WT', data = X_inputs).fit()\n",
    "print('R-square                           : ',round(model_3.rsquared,4))\n",
    "print('Adjusted R-square                  : ',round(model_3.rsquared_adj,4))\n",
    "print('Akaike information criterion (AIC) : ',round(model_3.aic,4))\n",
    "print('Bayesian information criterion(BIC): ',round(model_3.bic,4))"
   ]
  },
  {
   "cell_type": "code",
   "execution_count": 101,
   "id": "5db36fe9",
   "metadata": {},
   "outputs": [
    {
     "name": "stdout",
     "output_type": "stream",
     "text": [
      "R-square                           :  0.9118\n",
      "Adjusted R-square                  :  0.9071\n",
      "Akaike information criterion (AIC) :  400.5013\n",
      "Bayesian information criterion(BIC):  412.4736\n"
     ]
    }
   ],
   "source": [
    "model_5 = smf.ols(formula = 'MPG~log_HP+log_SP+log_VOL+log_WT', data = X_inputs).fit()\n",
    "print('R-square                           : ',round(model_5.rsquared,4))\n",
    "print('Adjusted R-square                  : ',round(model_5.rsquared_adj,4))\n",
    "print('Akaike information criterion (AIC) : ',round(model_5.aic,4))\n",
    "print('Bayesian information criterion(BIC): ',round(model_5.bic,4))"
   ]
  },
  {
   "cell_type": "code",
   "execution_count": null,
   "id": "14ec0381",
   "metadata": {},
   "outputs": [],
   "source": []
  }
 ],
 "metadata": {
  "kernelspec": {
   "display_name": "Python 3 (ipykernel)",
   "language": "python",
   "name": "python3"
  },
  "language_info": {
   "codemirror_mode": {
    "name": "ipython",
    "version": 3
   },
   "file_extension": ".py",
   "mimetype": "text/x-python",
   "name": "python",
   "nbconvert_exporter": "python",
   "pygments_lexer": "ipython3",
   "version": "3.9.7"
  }
 },
 "nbformat": 4,
 "nbformat_minor": 5
}
